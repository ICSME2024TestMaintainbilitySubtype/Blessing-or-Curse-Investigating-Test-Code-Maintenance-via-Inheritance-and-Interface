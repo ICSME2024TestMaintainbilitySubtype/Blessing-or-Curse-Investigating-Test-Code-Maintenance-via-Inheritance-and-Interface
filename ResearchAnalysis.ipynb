{
 "cells": [
  {
   "cell_type": "code",
   "execution_count": 1,
   "metadata": {
    "colab": {
     "base_uri": "https://localhost:8080/"
    },
    "id": "LJ1sUFrRcCjX",
    "outputId": "8ddc4255-8573-4952-9a49-3b68e30643b1"
   },
   "outputs": [
    {
     "name": "stdout",
     "output_type": "stream",
     "text": [
      "Collecting GitPython\n",
      "  Downloading GitPython-3.1.37-py3-none-any.whl (190 kB)\n",
      "\u001b[2K     \u001b[90m━━━━━━━━━━━━━━━━━━━━━━━━━━━━━━━━━━━━━━━\u001b[0m \u001b[32m190.0/190.0 kB\u001b[0m \u001b[31m3.6 MB/s\u001b[0m eta \u001b[36m0:00:00\u001b[0m\n",
      "\u001b[?25hCollecting gitdb<5,>=4.0.1 (from GitPython)\n",
      "  Downloading gitdb-4.0.10-py3-none-any.whl (62 kB)\n",
      "\u001b[2K     \u001b[90m━━━━━━━━━━━━━━━━━━━━━━━━━━━━━━━━━━━━━━━━\u001b[0m \u001b[32m62.7/62.7 kB\u001b[0m \u001b[31m5.5 MB/s\u001b[0m eta \u001b[36m0:00:00\u001b[0m\n",
      "\u001b[?25hCollecting smmap<6,>=3.0.1 (from gitdb<5,>=4.0.1->GitPython)\n",
      "  Downloading smmap-5.0.1-py3-none-any.whl (24 kB)\n",
      "Installing collected packages: smmap, gitdb, GitPython\n",
      "Successfully installed GitPython-3.1.37 gitdb-4.0.10 smmap-5.0.1\n"
     ]
    }
   ],
   "source": [
    "!pip install GitPython"
   ]
  },
  {
   "cell_type": "code",
   "execution_count": 1,
   "metadata": {
    "id": "ihXsbC7Wkx-1"
   },
   "outputs": [],
   "source": [
    "import os\n",
    "import pandas as pd\n",
    "import json\n",
    "from tqdm import tqdm\n",
    "import git\n",
    "import sys\n",
    "import re\n",
    "import numpy as np"
   ]
  },
  {
   "cell_type": "code",
   "execution_count": 7,
   "metadata": {
    "id": "-cdsK7ugcDkp"
   },
   "outputs": [],
   "source": [
    "data_folder = os.path.join(\"dataset\",\"result_refactoring\")\n",
    "REPOPATH = os.path.join(\"repo\") # you need to populate repository here"
   ]
  },
  {
   "cell_type": "markdown",
   "metadata": {
    "id": "D4UfdVfia0vE"
   },
   "source": [
    "## check whether commit involved changes to only test code"
   ]
  },
  {
   "cell_type": "code",
   "execution_count": 3,
   "metadata": {
    "id": "pW0Ykn1ZRl-e"
   },
   "outputs": [],
   "source": [
    "def getTest(files):\n",
    "  res = []\n",
    "  for f in files:\n",
    "    if (\".java\" in f) and ((f.replace(\".java\",\"\")[0:4].lower() == \"test\") or (f.replace(\".java\",\"\")[-4:].lower() == \"test\")):\n",
    "      res.append(f)\n",
    "  return res\n",
    "\n",
    "df = pd.read_csv(\"history.csv\")\n",
    "\n",
    "containsOnlyTest = []\n",
    "for p,g in (df.groupby(by=[\"project\"])):\n",
    "  repo = git.Repo(os.path.join(REPOPATH,p))\n",
    "  commits = ((set([i.split(\"::\")[0] for i in g[\"description\"]])))\n",
    "  commits_object = [(repo.commit(commit),repo.commit(commit).parents[0]) for commit in commits]\n",
    "  for cc,pc in tqdm(commits_object):\n",
    "    diff = cc.diff(pc)\n",
    "    # Extract the lists of modified, deleted, and added files\n",
    "    modified_files = [item.a_path for item in diff.iter_change_type('M')]\n",
    "    deleted_files = [item.a_path for item in diff.iter_change_type('D')]\n",
    "    added_files = [item.b_path for item in diff.iter_change_type('A')]\n",
    "    allfiles = modified_files+deleted_files+added_files\n",
    "\n",
    "    test = getTest(modified_files) + getTest(deleted_files) +getTest(added_files)\n",
    "\n",
    "    if len(set(allfiles).difference(set(test))) > 0:\n",
    "      containsOnlyTest.append([p,cc,pc,False])\n",
    "    else:\n",
    "      containsOnlyTest.append([p,cc,pc,True])"
   ]
  },
  {
   "cell_type": "code",
   "execution_count": null,
   "metadata": {
    "id": "midGoPx0dGLP"
   },
   "outputs": [],
   "source": [
    "df2= pd.DataFrame(containsOnlyTest,columns=[\"project\",\"parent_commit\",\"commit\",\"isTest\"])\n",
    "df2[\"commit\"] = df2[\"commit\"].astype(str)\n",
    "df[\"commit\"] = df[\"description\"].str.split(\"::\").str[0].astype(str)\n",
    "df_Final = df.merge(df2[[\"project\",\"commit\",\"isTest\"]],on=\"commit\",how=\"left\")"
   ]
  },
  {
   "cell_type": "markdown",
   "metadata": {
    "id": "jX7WeAmac9wg"
   },
   "source": [
    "# Clone repository"
   ]
  },
  {
   "cell_type": "code",
   "execution_count": null,
   "metadata": {
    "colab": {
     "base_uri": "https://localhost:8080/"
    },
    "id": "mrYMv6n9eSxT",
    "outputId": "c42d88db-af14-4513-fcac-b2e259799c0e"
   },
   "outputs": [
    {
     "name": "stdout",
     "output_type": "stream",
     "text": [
      "drive/MyDrive/Ph.D resources/Inheritance/Repository/maven\n"
     ]
    }
   ],
   "source": [
    "print(os.path.join(\"drive/MyDrive/Ph.D resources/Inheritance/Repository/\",link))"
   ]
  },
  {
   "cell_type": "code",
   "execution_count": null,
   "metadata": {
    "colab": {
     "base_uri": "https://localhost:8080/"
    },
    "id": "3CCnvrJ8c8lg",
    "outputId": "1853ebf5-556f-4116-9799-08ec4c913035"
   },
   "outputs": [
    {
     "name": "stderr",
     "output_type": "stream",
     "text": [
      "100%|██████████| 14/14 [05:24<00:00, 23.19s/it]\n"
     ]
    }
   ],
   "source": [
    "from git import Repo\n",
    "from tqdm import tqdm\n",
    "\n",
    "repolink = {\n",
    "    \"maven\":\"https://github.com/apache/maven.git\",\n",
    "    \"cayenne\":\"https://github.com/apache/cayenne.git\",\n",
    "    \"opennlp\":\"https://github.com/apache/opennlp.git\",\n",
    "    \"iotdb\":\"https://github.com/apache/iotdb.git\",\n",
    "    \"jclouds\":\"https://github.com/apache/jclouds.git\",\n",
    "    \"commons-collections\":\"https://github.com/apache/commons-collections.git\",\n",
    "    \"cucumber-jvm\":\"https://github.com/cucumber/cucumber-jvm.git\",\n",
    "    \"httpcomponents-client\":\"https://github.com/apache/httpcomponents-client.git\",\n",
    "    \"kylin\":\"https://github.com/apache/kylin.git\",\n",
    "    \"cxf\":\"https://github.com/apache/cxf.git\",\n",
    "    \"ratis\":\"https://github.com/apache/ratis.git\",\n",
    "    \"pdfbox\":\"https://github.com/apache/pdfbox.git\",\n",
    "    \"ranger\":\"https://github.com/apache/ranger.git\",\n",
    "    \"wicket\":\"https://github.com/apache/wicket.git\"\n",
    "}\n",
    "for link in tqdm(repolink):\n",
    "  if link in ['cayenne',\n",
    " 'maven',\n",
    " 'opennlp',\n",
    " 'iotdb',\n",
    " 'jclouds',\n",
    " 'commons-collections']:\n",
    "    continue\n",
    "  if not os.path.exists(os.path.join(\"drive/MyDrive/Ph.D resources/Inheritance/Repository/\",link)):\n",
    "    os.makedirs(os.path.join(\"drive/MyDrive/Ph.D resources/Inheritance/Repository/\",link))\n",
    "  Repo.clone_from(repolink[link], os.path.join(\"drive/MyDrive/Ph.D resources/Inheritance/Repository\",link))"
   ]
  },
  {
   "cell_type": "markdown",
   "metadata": {
    "id": "Cc360fp7unsL"
   },
   "source": [
    "# [1] Get Refactoring History"
   ]
  },
  {
   "cell_type": "markdown",
   "metadata": {
    "id": "VQoPmg77cXA2"
   },
   "source": [
    "#### load inheritance history dataset"
   ]
  },
  {
   "cell_type": "code",
   "execution_count": 8,
   "metadata": {
    "id": "ftT7azjQupTq"
   },
   "outputs": [],
   "source": [
    "def get_files():\n",
    "  data_ = {}\n",
    "  for project in os.listdir(data_folder):\n",
    "    if project == \"opennlp\" or project == \"pdfbox\":\n",
    "      continue\n",
    "    data_[project] = json.load(open(os.path.join(data_folder,project,project+\"_refactoring_history.json\")))\n",
    "  return data_\n",
    "data_history = get_files()"
   ]
  },
  {
   "cell_type": "markdown",
   "metadata": {
    "id": "K53QL5AWcq0n"
   },
   "source": [
    "#### extract inheritance and interface changes for test code and source code separately"
   ]
  },
  {
   "cell_type": "code",
   "execution_count": 9,
   "metadata": {
    "id": "dac_fM0VuwFu"
   },
   "outputs": [],
   "source": [
    "result_history_test = []\n",
    "result_history_src = []\n",
    "for project in data_history:\n",
    "  for k in (data_history[project][\"commits\"]):\n",
    "    if len(k[\"refactorings\"]) > 0:\n",
    "      for rft in (k[\"refactorings\"]):\n",
    "        if \"class extension\" in (rft[\"description\"].lower()):\n",
    "          clazzleft = (rft[\"leftSideLocations\"][0][\"filePath\"]).split(\"/\")[-1].replace(\".java\",\"\").lower()\n",
    "          clazzleft_full = (rft[\"leftSideLocations\"][0][\"filePath\"]).split(\"/\")[-1].replace(\".java\",\"\").lower()\n",
    "          clazzright = (rft[\"rightSideLocations\"][0][\"filePath\"]).split(\"/\")[-1].replace(\".java\",\"\").lower()\n",
    "          clazzright_full = (rft[\"rightSideLocations\"][0][\"filePath\"]).split(\"/\")[-1].replace(\".java\",\"\").lower()\n",
    "          if (clazzleft[0:4] == \"test\" or clazzleft[-4:] == \"test\") or (clazzright[0:4] == \"test\" or clazzright[-4:] == \"test\"):\n",
    "            result_history_test.append([project,rft[\"type\"],clazzleft,clazzright,k[\"sha1\"]+\"::\"+rft[\"description\"].lower()])\n",
    "          else:\n",
    "            result_history_src.append([project,rft[\"type\"],clazzleft,clazzright,k[\"sha1\"]+\"::\"+rft[\"description\"].lower()])\n",
    "\n",
    "        if \"class implementation\" in (rft[\"description\"].lower()):\n",
    "          clazzleft = (rft[\"leftSideLocations\"][0][\"filePath\"]).split(\"/\")[-1].replace(\".java\",\"\").lower()\n",
    "          clazzleft_full = (rft[\"leftSideLocations\"][0][\"filePath\"]).split(\"/\")[-1].replace(\".java\",\"\").lower()\n",
    "          clazzright = (rft[\"rightSideLocations\"][0][\"filePath\"]).split(\"/\")[-1].replace(\".java\",\"\").lower()\n",
    "          clazzright_full = (rft[\"rightSideLocations\"][0][\"filePath\"]).split(\"/\")[-1].replace(\".java\",\"\").lower()\n",
    "          if (clazzleft[0:4] == \"test\" or clazzleft[-4:] == \"test\") or (clazzright[0:4] == \"test\" or clazzright[-4:] == \"test\"):\n",
    "            result_history_test.append([project,rft[\"type\"],clazzleft,clazzright,k[\"sha1\"]+\"::\"+rft[\"description\"].lower()])\n",
    "          else:\n",
    "            result_history_src.append([project,rft[\"type\"],clazzleft,clazzright,k[\"sha1\"]+\"::\"+rft[\"description\"].lower()])\n",
    "\n",
    "result_history_test = pd.DataFrame(result_history_test,columns=[\"project\",\"rft\",\"file_left\",\"file_right\",\"description\"])\n",
    "result_history_src = pd.DataFrame(result_history_src,columns=[\"project\",\"rft\",\"file_left\",\"file_right\",\"description\"])"
   ]
  },
  {
   "cell_type": "markdown",
   "metadata": {
    "id": "o7it0HNocwzd"
   },
   "source": [
    "#### save data"
   ]
  },
  {
   "cell_type": "code",
   "execution_count": 10,
   "metadata": {
    "id": "7lWt__58cc7z"
   },
   "outputs": [],
   "source": [
    "result_history_test.to_csv(\"Test_Only_RFT.csv\")\n",
    "result_history_src.to_csv(\"Source_Only_RFT.csv\")"
   ]
  },
  {
   "cell_type": "markdown",
   "metadata": {
    "id": "0oDJzmrpcyyM"
   },
   "source": [
    "#### summarizes total number of file that undergoes inheritance/interface change in test code and source code"
   ]
  },
  {
   "cell_type": "code",
   "execution_count": 11,
   "metadata": {
    "colab": {
     "base_uri": "https://localhost:8080/"
    },
    "id": "0G_IPNhnlxEE",
    "outputId": "c7a15c5a-87e0-4df9-9bd7-de9f1751b047"
   },
   "outputs": [
    {
     "name": "stdout",
     "output_type": "stream",
     "text": [
      "4696\n",
      "14096\n"
     ]
    }
   ],
   "source": [
    "print(result_history_test.groupby(by=[\"project\",\"rft\"]).apply(len).to_frame(\"Freq\").reset_index()[\"Freq\"].sum())\n",
    "print(result_history_src.groupby(by=[\"project\",\"rft\"]).apply(len).to_frame(\"Freq\").reset_index()[\"Freq\"].sum())"
   ]
  },
  {
   "cell_type": "markdown",
   "metadata": {
    "id": "gTWyg2Vhjfmk"
   },
   "source": [
    "# [2] Check if the inheritance and interface overlaps at the file level"
   ]
  },
  {
   "cell_type": "markdown",
   "metadata": {
    "id": "zNamgYAVcjqW"
   },
   "source": [
    "#### Load inheritance refactoring history"
   ]
  },
  {
   "cell_type": "code",
   "execution_count": 12,
   "metadata": {
    "id": "uAmS580zALDU"
   },
   "outputs": [],
   "source": [
    "def getTreeFiles():\n",
    "  data_ = {}\n",
    "  for project in os.listdir(data_folder):\n",
    "    if project == \"opennlp\" or project == \"pdfbox\":\n",
    "      continue\n",
    "    data_[project] = json.load(open(os.path.join(data_folder,project,project+\"_refactoring_tree.json\")))\n",
    "  return data_\n",
    "data_tree = getTreeFiles()"
   ]
  },
  {
   "cell_type": "code",
   "execution_count": 13,
   "metadata": {
    "colab": {
     "base_uri": "https://localhost:8080/"
    },
    "id": "96OXlFwTqeMd",
    "outputId": "2dab5c9e-6cf9-4c87-9590-a27494d4f793"
   },
   "outputs": [
    {
     "name": "stderr",
     "output_type": "stream",
     "text": [
      "100%|██████████| 12/12 [00:30<00:00,  2.58s/it]\n"
     ]
    }
   ],
   "source": [
    "def find_overlap(data_tree):\n",
    "  projects = data_tree.keys()\n",
    "  result = []\n",
    "  for project in tqdm(projects):\n",
    "    files = data_tree[project].keys()\n",
    "    tree = data_tree[project]\n",
    "    for f in files:\n",
    "      df = (pd.DataFrame([tree[f][index].values() for index in (tree[f])],columns=[\"commit\",\"file\",\"rft\"]))\n",
    "      df = df.groupby(by=[\"commit\",\"file\"]).agg(list).reset_index()\n",
    "      result.append(df)\n",
    "  return pd.concat(result)\n",
    "overlapping = find_overlap(data_tree)"
   ]
  },
  {
   "cell_type": "markdown",
   "metadata": {
    "id": "USV1Q8hHdu1D"
   },
   "source": [
    "#### Check if the file is a test or not"
   ]
  },
  {
   "cell_type": "code",
   "execution_count": 14,
   "metadata": {
    "id": "A-qXXNzl_VbG"
   },
   "outputs": [],
   "source": [
    "isTest = overlapping[\"rft\"].apply(lambda x : set(x).intersection(set(result_history_test[\"description\"])))\n",
    "isProd = overlapping[\"rft\"].apply(lambda x : set(x).intersection(set(result_history_src[\"description\"])))\n",
    "overlapping[\"isTest\"] = isTest\n",
    "overlapping[\"isProd\"] = isProd"
   ]
  },
  {
   "cell_type": "code",
   "execution_count": 15,
   "metadata": {
    "colab": {
     "base_uri": "https://localhost:8080/"
    },
    "id": "LKF73yHrFUK1",
    "outputId": "781b066d-c286-42fc-e6cd-8e8fc23ae01c"
   },
   "outputs": [
    {
     "name": "stderr",
     "output_type": "stream",
     "text": [
      "<ipython-input-15-abe479519262>:11: SettingWithCopyWarning: \n",
      "A value is trying to be set on a copy of a slice from a DataFrame.\n",
      "Try using .loc[row_indexer,col_indexer] = value instead\n",
      "\n",
      "See the caveats in the documentation: https://pandas.pydata.org/pandas-docs/stable/user_guide/indexing.html#returning-a-view-versus-a-copy\n",
      "  result_test[\"Type\"] = result_test[\"isTest\"].apply(lambda x : [checkType(i) for i in x])\n",
      "<ipython-input-15-abe479519262>:14: SettingWithCopyWarning: \n",
      "A value is trying to be set on a copy of a slice from a DataFrame.\n",
      "Try using .loc[row_indexer,col_indexer] = value instead\n",
      "\n",
      "See the caveats in the documentation: https://pandas.pydata.org/pandas-docs/stable/user_guide/indexing.html#returning-a-view-versus-a-copy\n",
      "  result_source[\"Type\"] = result_source[\"isProd\"].apply(lambda x : [checkType(i) for i in x])\n"
     ]
    }
   ],
   "source": [
    "from collections import Counter\n",
    "from sklearn.preprocessing import MultiLabelBinarizer\n",
    "\n",
    "def checkType(x):\n",
    "  import re\n",
    "  se = re.search(\"(add|remove|replace).*(extension|implementation)\",x.lower())\n",
    "  return se.group(1)+ \" class \"+ se.group(2)\n",
    "\n",
    "\n"
   ]
  },
  {
   "cell_type": "markdown",
   "metadata": {
    "id": "I8Ye_6ScdL86"
   },
   "source": [
    "### This shows test/source file that has single level change pattern"
   ]
  },
  {
   "cell_type": "code",
   "execution_count": null,
   "metadata": {
    "id": "cHJCAL-GdLcF"
   },
   "outputs": [],
   "source": [
    "result_test = overlapping[overlapping[\"isTest\"].str.len() > 0]\n",
    "result_test[\"Type\"] = result_test[\"isTest\"].apply(lambda x : [checkType(i) for i in x])\n",
    "\n",
    "result_source = overlapping[overlapping[\"isProd\"].str.len() > 0]\n",
    "result_source[\"Type\"] = result_source[\"isProd\"].apply(lambda x : [checkType(i) for i in x])"
   ]
  },
  {
   "cell_type": "markdown",
   "metadata": {
    "id": "vQMjMB9IdVca"
   },
   "source": [
    "### This shows test/source file that has multi level change pattern"
   ]
  },
  {
   "cell_type": "code",
   "execution_count": 16,
   "metadata": {
    "id": "N63mhjCvt6Al"
   },
   "outputs": [],
   "source": [
    "result_test_multi = result_test[result_test[\"Type\"].str.len() > 1]\n",
    "result_source_multi = result_source[result_source[\"Type\"].str.len() > 1]"
   ]
  },
  {
   "cell_type": "markdown",
   "metadata": {
    "id": "YEE9gNeidISP"
   },
   "source": [
    "### Plots the change pattern"
   ]
  },
  {
   "cell_type": "code",
   "execution_count": null,
   "metadata": {
    "colab": {
     "base_uri": "https://localhost:8080/",
     "height": 1000
    },
    "id": "5_rdky9v44K7",
    "outputId": "b9327558-0c78-423f-f567-b715a451db93"
   },
   "outputs": [
    {
     "data": {
      "image/png": "[encoded data removed]",
      "text/plain": [
       "<Figure size 800x600 with 1 Axes>"
      ]
     },
     "metadata": {},
     "output_type": "display_data"
    },
    {
     "data": {
      "image/png": "[encoded data removed]",
      "text/plain": [
       "<Figure size 800x600 with 1 Axes>"
      ]
     },
     "metadata": {},
     "output_type": "display_data"
    },
    {
     "data": {
      "image/png": "[encoded data removed]",
      "text/plain": [
       "<Figure size 800x600 with 2 Axes>"
      ]
     },
     "metadata": {},
     "output_type": "display_data"
    },
    {
     "data": {
      "image/png": "[encoded data removed]",
      "text/plain": [
       "<Figure size 800x600 with 2 Axes>"
      ]
     },
     "metadata": {},
     "output_type": "display_data"
    }
   ],
   "source": [
    "import seaborn as sns\n",
    "import pandas as pd\n",
    "import numpy as np\n",
    "from collections import Counter\n",
    "\n",
    "plt.rcParams.update({'font.size': 20})\n",
    "\n",
    "# Function to draw the barplot\n",
    "def draw_Barplot(result_test,fname):\n",
    "    # Create a figure for the barplot\n",
    "    import matplotlib.pyplot as plt\n",
    "    fig, ax = plt.subplots(figsize=(8, 6))\n",
    "\n",
    "    # Generate the barplot\n",
    "    df2 = pd.DataFrame.from_dict(Counter(result_test[\"Type\"].str.len()), orient='index').reset_index().rename(columns={\"index\": \"Replacement\", 0: \"Frequency\"}).sort_values(by=[\"Replacement\"])\n",
    "    g_Bar = sns.barplot(data=df2, x=\"Replacement\", y=\"Frequency\", ax=ax)\n",
    "\n",
    "    for index, row in df2.iterrows():\n",
    "        g_Bar.annotate(row['Frequency'], (index, row['Frequency']), ha='center', va='bottom')\n",
    "\n",
    "    g_Bar.set_yscale(\"log\")\n",
    "\n",
    "    plt.tight_layout()\n",
    "\n",
    "    # Save the barplot as a PDF file\n",
    "    plt.savefig(fname)\n",
    "\n",
    "# Function to draw the correlation heatmap\n",
    "def draw_Corr(result_df,fname):\n",
    "    # Create a figure for the heatmap\n",
    "    import matplotlib.pyplot as plt\n",
    "    fig, ax = plt.subplots(figsize=(8, 6))\n",
    "\n",
    "    # Call the draw_Corr function with your DataFrame\n",
    "    mlb = MultiLabelBinarizer()\n",
    "    df = pd.DataFrame(mlb.fit_transform(result_df[\"Type\"]),columns=mlb.classes_, index=result_df.index)\n",
    "    df = df.rename(columns={\"add class extension\":\"Add \\n Ext. (+)\",\"remove class extension\":\"Remove \\n Ext. (-)\",\"replace class extension\":\"Replace \\n Ext. (~)\", \\\n",
    "                      \"add class implementation\":\"Add \\n Impl. (+)\",\"remove class implementation\":\"Remove \\n Impl. (-)\",\"replace class implementation\":\"Replace \\n Impl. (~)\"\n",
    "                      })\n",
    "    # Compute the correlation matrix\n",
    "    corr = df.corr()\n",
    "\n",
    "    # Generate a mask for the upper triangle\n",
    "    mask = np.triu(np.ones_like(corr, dtype=bool))\n",
    "\n",
    "    # Generate a custom diverging colormap\n",
    "    cmap = sns.diverging_palette(100, 20, as_cmap=True)\n",
    "\n",
    "    # Draw the heatmap with the mask and correct aspect ratio\n",
    "    sns.heatmap(corr, mask=mask, cmap=cmap, vmax=.3, center=0,\n",
    "                square=True, linewidths=.5, cbar_kws={\"shrink\": .5}, annot=True, ax=ax)\n",
    "\n",
    "    ax.set_xticklabels(ax.get_xticklabels(), rotation=0)\n",
    "    ax.set_yticklabels(ax.get_yticklabels(), rotation=0)\n",
    "\n",
    "    plt.tight_layout()\n",
    "\n",
    "    # Save the heatmap as a PDF file\n",
    "    plt.savefig(fname)\n",
    "\n",
    "# Your existing code for preparing the data\n",
    "# ...\n",
    "\n",
    "sns.set_theme()\n",
    "sns.set(font_scale=1.1)  # You can adjust the font scale as needed\n",
    "# Call the draw_Barplot function with your DataFrame for the barplot\n",
    "draw_Barplot(result_test,\"RQ2_Barplot_test.pdf\")\n",
    "draw_Barplot(result_source,\"RQ2_Barplot_src.pdf\")\n",
    "\n",
    "# Call the draw_Corr function with your DataFrame for the heatmap\n",
    "draw_Corr(result_test_multi,\"RQ2_Heatmap_test.pdf\")\n",
    "draw_Corr(result_source_multi,\"RQ2_Heatmap_src.pdf\")\n"
   ]
  },
  {
   "cell_type": "markdown",
   "metadata": {
    "id": "JuPPbxWvF9_8"
   },
   "source": [
    "# RQ1-A"
   ]
  },
  {
   "cell_type": "code",
   "execution_count": 17,
   "metadata": {
    "colab": {
     "base_uri": "https://localhost:8080/"
    },
    "id": "Ym9W0Nwy-CNv",
    "outputId": "1bf69f9c-eaf2-438e-9ece-b7a3f8a1ba8c"
   },
   "outputs": [
    {
     "name": "stdout",
     "output_type": "stream",
     "text": [
      "Collecting tree-sitter\n",
      "  Downloading tree_sitter-0.20.2-cp310-cp310-manylinux_2_17_x86_64.manylinux2014_x86_64.whl (484 kB)\n",
      "\u001b[2K     \u001b[90m━━━━━━━━━━━━━━━━━━━━━━━━━━━━━━━━━━━━━━━\u001b[0m \u001b[32m484.3/484.3 kB\u001b[0m \u001b[31m6.6 MB/s\u001b[0m eta \u001b[36m0:00:00\u001b[0m\n",
      "\u001b[?25hInstalling collected packages: tree-sitter\n",
      "Successfully installed tree-sitter-0.20.2\n"
     ]
    }
   ],
   "source": [
    "!pip install tree-sitter"
   ]
  },
  {
   "cell_type": "markdown",
   "metadata": {
    "id": "sYvMUiq5deSa"
   },
   "source": [
    "### Load tree-sitter necessary for parsing"
   ]
  },
  {
   "cell_type": "code",
   "execution_count": 18,
   "metadata": {
    "id": "7SjHtsYdIvTr"
   },
   "outputs": [],
   "source": [
    "import os\n",
    "tree_sitter_dir = os.path.join(\"drive\",\"MyDrive\",\"tree-sitter\")\n",
    "build_tree = os.path.join(tree_sitter_dir,\"build\")\n",
    "build_java = os.path.join(tree_sitter_dir,\"tree-sitter-java\")\n",
    "\n",
    "from tree_sitter import Language, Parser\n",
    "import sys\n",
    "from tqdm import tqdm\n",
    "import os\n",
    "import json\n",
    "import hashlib\n",
    "\n",
    "Language.build_library(\n",
    "  # Store the library in the `build` directory\n",
    "  os.path.join(build_tree,'my-languages.so'),\n",
    "\n",
    "  # Include one or more languages\n",
    "  [\n",
    "    build_java\n",
    "  ]\n",
    ")\n",
    "\n",
    "JAVA_LANGUAGE = Language(os.path.join(build_tree,'my-languages.so'), 'java')\n",
    "parser = Parser()\n",
    "parser.set_language(JAVA_LANGUAGE)"
   ]
  },
  {
   "cell_type": "code",
   "execution_count": null,
   "metadata": {
    "id": "7uap9HoQ-Ijt"
   },
   "outputs": [],
   "source": [
    "# Function to find \"extends\" or \"implements\" only in class declarations\n",
    "def find_extends_implements_in_class_declarations(node):\n",
    "    extends_implements_count = []\n",
    "\n",
    "    if node.type == 'class_declaration':\n",
    "        for child in node.children:\n",
    "            if child.type == 'superclass' or child.type == 'super_interfaces':\n",
    "                extends_implements_count.append(child.text.decode(\"utf-8\"))\n",
    "\n",
    "    for child in node.children:\n",
    "        extends_implements_count += find_extends_implements_in_class_declarations(child)\n",
    "\n",
    "    return extends_implements_count"
   ]
  },
  {
   "cell_type": "code",
   "execution_count": null,
   "metadata": {
    "id": "naMya_C9wwb-"
   },
   "outputs": [],
   "source": [
    "test_fname = {}\n",
    "src_fname = {}\n",
    "for p in data_tree:\n",
    "  test_fname[p] = []\n",
    "  src_fname[p] = []\n",
    "  for fname in data_tree[p]:\n",
    "    if fname.replace(\".java\",\"\").split(\"::\")[-1].split(\"/\")[-1].lower()[0:4] == \"test\" or \\\n",
    "      fname.replace(\".java\",\"\").split(\"::\")[-1].split(\"/\")[-1].lower()[-4:] == \"test\":\n",
    "      test_fname[p].append(fname)\n",
    "    else:\n",
    "      src_fname[p].append(fname)\n",
    "\n"
   ]
  },
  {
   "cell_type": "code",
   "execution_count": null,
   "metadata": {
    "id": "9ubIhTuVGZpO"
   },
   "outputs": [],
   "source": [
    "def extract_inh_interface_at_beginning(data_tree,fnames):\n",
    "  buff = []\n",
    "  for p in (data_tree):\n",
    "    print(p)\n",
    "    reposit = git.Repo(os.path.join(\"drive/MyDrive/Ph.D resources/Inheritance/Repository\",p))\n",
    "    for fname in tqdm(fnames[p]):\n",
    "      commits_ID = [[data_tree[p][fname][index][\"commit\"],\n",
    "        reposit.commit(data_tree[p][fname][index][\"commit\"]),\n",
    "        reposit.commit(data_tree[p][fname][index][\"commit\"]).committed_datetime\n",
    "        ] for index in (data_tree[p][fname])]\n",
    "      commits_ID =  sorted(commits_ID,key=lambda x: (x[2]))\n",
    "      first_commit,commitObj,commit_Date = (commits_ID[0])\n",
    "      parent_commitObj = commitObj.parents[0]\n",
    "      commits_Group = [data_tree[p][fname][index] for index in data_tree[p][fname] if data_tree[p][fname][index][\"commit\"] == first_commit]\n",
    "      file_parent = \"\"\n",
    "      file_child   = \"\"\n",
    "      rfts = \"\"\n",
    "      if len([i for i in commits_Group if ((\"rename\" in i[\"refactoring\"]) or (\"move\" in i[\"refactoring\"]))]) > 0:\n",
    "        renamed_commit = [i for i in commits_Group if ((\"rename\" in i[\"refactoring\"]) or (\"move\" in i[\"refactoring\"]))]\n",
    "        file_parent = (renamed_commit[0][\"left ==> right\"].split(\" ==> \")[0])\n",
    "        file_child = (renamed_commit[0][\"left ==> right\"].split(\" ==> \")[1])\n",
    "        rfts = (renamed_commit[0][\"refactoring\"])\n",
    "      else:\n",
    "        file_parent = (commits_Group[0][\"left ==> right\"].split(\" ==> \")[0])\n",
    "        file_child = (commits_Group[0][\"left ==> right\"].split(\" ==> \")[1])\n",
    "        rfts = (commits_Group[0][\"refactoring\"])\n",
    "\n",
    "      try:\n",
    "        # Start\n",
    "        file_content_start  = parent_commitObj.tree[file_parent].data_stream.read()\n",
    "        tree_start = parser.parse(file_content_start)\n",
    "        lst_start = find_extends_implements_in_class_declarations(tree_start.root_node)\n",
    "        buff.append([p,str(parent_commitObj),first_commit,file_parent,file_child,[data_tree[p][fname][index][\"refactoring\"] for index in data_tree[p][fname]],fname,lst_start])\n",
    "      except Exception as e:\n",
    "        print(e)\n",
    "        print(p)\n",
    "        print(parent_commitObj)\n",
    "        print(commitObj)\n",
    "        print(file_parent)\n",
    "        buff.append([p,str(parent_commitObj),first_commit,file_parent,file_child,[data_tree[p][fname][index][\"refactoring\"] for index in data_tree[p][fname]],fname,\"ERROR\"])\n",
    "  buff = pd.DataFrame(buff,columns=[\"project\",\"parent_commit\",\"child_commit\",\"parent_file\",\"child_file\",\"rft\",\"key\",\"modifiers_start\"])\n",
    "  return buff\n",
    "\n",
    "\n",
    "RQ1_src = extract_inh_interface_at_beginning(data_tree,src_fname)\n",
    "RQ1_test = extract_inh_interface_at_beginning(data_tree,test_fname)\n",
    "\n"
   ]
  },
  {
   "cell_type": "code",
   "execution_count": null,
   "metadata": {
    "id": "1g8s9EHoB4r4"
   },
   "outputs": [],
   "source": [
    "def checkType(x):\n",
    "  import re\n",
    "  se = re.search(\"(add|remove|replace).*(extension|implementation)\",x.lower())\n",
    "  if se:\n",
    "    return se.group(1)+ \" class \"+ se.group(2)\n",
    "  else:\n",
    "    return False\n",
    "\n",
    "RQ1_src[\"rft_abstract\"] = RQ1_src[\"rft\"].apply(lambda x : [checkType(i) for i in x if checkType(i)])\n",
    "RQ1_test[\"rft_abstract\"] = RQ1_test[\"rft\"].apply(lambda x : [checkType(i) for i in x if checkType(i)])\n"
   ]
  },
  {
   "cell_type": "code",
   "execution_count": null,
   "metadata": {
    "id": "ZXCQ7rP1Ob8W"
   },
   "outputs": [],
   "source": [
    "RQ1_src[\"rft_impl\"] = RQ1_src[\"rft_abstract\"].apply(lambda x : [i for i in x if \"implementation\" in i])\n",
    "RQ1_src[\"rft_ext\"] = RQ1_src[\"rft_abstract\"].apply(lambda x : [i for i in x if \"extension\" in i])\n",
    "\n",
    "RQ1_test[\"rft_impl\"] = RQ1_test[\"rft_abstract\"].apply(lambda x : [i for i in x if \"implementation\" in i])\n",
    "RQ1_test[\"rft_ext\"] = RQ1_test[\"rft_abstract\"].apply(lambda x : [i for i in x if \"extension\" in i])\n",
    "\n",
    "RQ1_test[\"extends\"] = RQ1_test[\"modifiers_start\"].apply(lambda x : [i for i in x if \"extends\" in i])\n",
    "RQ1_test[\"extends\"] = RQ1_test[\"extends\"].apply(lambda x : [i for i in x if not re.search(\"extends.* (assert|testcase|org.junit.assert)\",i.lower())])\n",
    "RQ1_test[\"implements\"] = RQ1_test[\"modifiers_start\"].apply(lambda x : [i for i in x if \"implements\" in i])\n",
    "\n",
    "RQ1_src[\"extends\"] = RQ1_src[\"modifiers_start\"].apply(lambda x : [i for i in x if \"extends\" in i])\n",
    "RQ1_src[\"implements\"] = RQ1_src[\"modifiers_start\"].apply(lambda x : [i for i in x if \"implements\" in i])"
   ]
  },
  {
   "cell_type": "code",
   "execution_count": null,
   "metadata": {
    "colab": {
     "base_uri": "https://localhost:8080/"
    },
    "id": "SmvXpS3oZI8D",
    "outputId": "aa6e89a2-3050-4e0a-cfdf-7fbafa997df3"
   },
   "outputs": [
    {
     "name": "stdout",
     "output_type": "stream",
     "text": [
      "Has both inheritance and interface  142\n",
      "Has only inheritance  1615\n",
      "Has only interface  89\n",
      "\n",
      "Has NONE  1197\n",
      "TOTAL ==  3043\n",
      "--------\n",
      "Has both inheritance and interface  964\n",
      "Has only inheritance  2985\n",
      "Has only interface  1720\n",
      "\n",
      "Has NONE  1052\n",
      "TOTAL ==  6721\n"
     ]
    }
   ],
   "source": [
    "def printDistribution(RQ1):\n",
    "  print(\"Has both inheritance and interface \" , RQ1[(RQ1[\"extends\"].str.len() > 0) & (RQ1[\"implements\"].str.len() > 0)].shape[0])\n",
    "  print(\"Has only inheritance \" ,RQ1[(RQ1[\"extends\"].str.len() > 0) & (RQ1[\"implements\"].str.len() == 0)].shape[0])\n",
    "  print(\"Has only interface \" ,RQ1[(RQ1[\"extends\"].str.len() == 0) & (RQ1[\"implements\"].str.len() > 0)].shape[0])\n",
    "\n",
    "\n",
    "  print()\n",
    "  print(\"Has NONE \" ,RQ1[(RQ1[\"extends\"].str.len() == 0) & (RQ1[\"implements\"].str.len()== 0)].shape[0])\n",
    "  print(\"TOTAL == \",RQ1.shape[0])\n",
    "\n",
    "printDistribution(RQ1_test)\n",
    "print(\"--------\")\n",
    "printDistribution(RQ1_src)"
   ]
  },
  {
   "cell_type": "markdown",
   "metadata": {
    "id": "NDqjxvR7hC8U"
   },
   "source": [
    "# RQ1-B [HISTORY OF INHERITANCE AND INTERFACE CHANGE]"
   ]
  },
  {
   "cell_type": "code",
   "execution_count": 10,
   "metadata": {
    "id": "JCGuSUZ9ZM14"
   },
   "outputs": [],
   "source": [
    "def getTreeFiles():\n",
    "  data_ = {}\n",
    "  for project in os.listdir(data_folder):\n",
    "    if project == \"opennlp\" or project == \"pdfbox\":\n",
    "      continue\n",
    "    data_[project] = json.load(open(os.path.join(data_folder,project,project+\"_refactoring_tree.json\")))\n",
    "  return data_\n",
    "data_tree = getTreeFiles()"
   ]
  },
  {
   "cell_type": "code",
   "execution_count": 11,
   "metadata": {
    "id": "JQ5p2VaVaWa1"
   },
   "outputs": [],
   "source": [
    "test_fname = {}\n",
    "src_fname = {}\n",
    "for p in data_tree:\n",
    "  test_fname[p] = []\n",
    "  src_fname[p] = []\n",
    "  for fname in data_tree[p]:\n",
    "    if fname.replace(\".java\",\"\").split(\"::\")[-1].split(\"/\")[-1].lower()[0:4] == \"test\" or \\\n",
    "      fname.replace(\".java\",\"\").split(\"::\")[-1].split(\"/\")[-1].lower()[-4:] == \"test\":\n",
    "      test_fname[p].append(fname)\n",
    "    else:\n",
    "      src_fname[p].append(fname)\n",
    "\n"
   ]
  },
  {
   "cell_type": "code",
   "execution_count": 12,
   "metadata": {
    "id": "-CEI61-UZQlh"
   },
   "outputs": [],
   "source": [
    "def checkType(x):\n",
    "  import re\n",
    "  se = re.search(\"(add|remove|replace).*(extension|implementation)\",x.lower())\n",
    "  if se:\n",
    "    return se.group(1)+ \" class \"+ se.group(2)\n",
    "  else:\n",
    "    return False"
   ]
  },
  {
   "cell_type": "code",
   "execution_count": 35,
   "metadata": {
    "id": "QAs937wFhJTh"
   },
   "outputs": [],
   "source": [
    "import git\n",
    "def RQ2(data_tree,filenames):\n",
    "  res = []\n",
    "  for project in data_tree:\n",
    "    reposit = git.Repo(os.path.join(\"Inheritance_ISSTA\\\\repo\",project))\n",
    "    for fname in filenames[project]:\n",
    "      evolution_Ext = []\n",
    "      evolution_Impl = []\n",
    "      evolution_date = []\n",
    "      evolution_raw = []\n",
    "      for row in data_tree[project][fname]:\n",
    "        rft = checkType(data_tree[project][fname][row][\"refactoring\"])\n",
    "        if rft:\n",
    "          if \"extension\" in  rft.lower():\n",
    "            evolution_Ext.append(data_tree[project][fname][row][\"commit\"])\n",
    "          elif \"implementation\" in  rft.lower():\n",
    "            evolution_Impl.append(data_tree[project][fname][row][\"commit\"])\n",
    "        evolution_raw.append(data_tree[project][fname][row][\"commit\"])\n",
    "\n",
    "      evolution_raw = list(set(evolution_raw))\n",
    "      evolution_Ext = list(set(evolution_Ext))\n",
    "      evolution_time_Ext = [reposit.commit(commit).authored_datetime for commit in evolution_Ext]\n",
    "\n",
    "      evolution_Impl = list(set(evolution_Impl))\n",
    "      evolution_time_Impl = [reposit.commit(commit).authored_datetime for commit in evolution_Impl]\n",
    "\n",
    "      res.append([project,fname,evolution_Ext, evolution_time_Ext,evolution_Impl,evolution_time_Impl,evolution_raw])\n",
    "  return pd.DataFrame(res,columns=[\"project\",\"filename\",\"evolution_Ext\",\"evolution_time_Ext\",\"evolution_Impl\",\"evolution_time_Impl\",\"evolution_raw\"])\n",
    "\n",
    "rq2_Df_test = RQ2(data_tree,test_fname)\n",
    "rq2_Df_src = RQ2(data_tree,src_fname)\n",
    "rq2_Df_test[\"Change Frequency Ext\"] = rq2_Df_test[\"evolution_time_Ext\"].str.len()\n",
    "rq2_Df_test[\"Change Frequency Raw\"] = rq2_Df_test[\"evolution_raw\"].str.len()\n",
    "rq2_Df_test[\"Change Frequency Impl\"] = rq2_Df_test[\"evolution_time_Impl\"].str.len()\n",
    "\n",
    "rq2_Df_src[\"Change Frequency Ext\"] = rq2_Df_src[\"evolution_time_Ext\"].str.len()\n",
    "rq2_Df_src[\"Change Frequency Raw\"] = rq2_Df_src[\"evolution_raw\"].str.len()\n",
    "rq2_Df_src[\"Change Frequency Impl\"] = rq2_Df_src[\"evolution_time_Impl\"].str.len()\n"
   ]
  },
  {
   "cell_type": "code",
   "execution_count": 36,
   "metadata": {
    "id": "wv80l6kqfO4s"
   },
   "outputs": [],
   "source": [
    "def precessing_ext():\n",
    "  import numpy as np\n",
    "  rq2_length_agg_test = rq2_Df_test[\"Change Frequency Ext\"].value_counts().to_frame(\"Frequency\").reset_index().rename(columns={\"index\":\"Change Frequency Ext\"}).sort_values(by=[\"Change Frequency Ext\"])\n",
    "  rq2_length_agg_src = rq2_Df_src[\"Change Frequency Ext\"].value_counts().to_frame(\"Frequency\").reset_index().rename(columns={\"index\":\"Change Frequency Ext\"}).sort_values(by=[\"Change Frequency Ext\"])\n",
    "  merged = pd.merge(rq2_length_agg_test,rq2_length_agg_src,on=[\"Change Frequency Ext\"],how=\"outer\")\n",
    "  rq2_length_agg_test = merged[[\"Change Frequency Ext\",\"Frequency_x\"]].rename(columns={\"Frequency_x\":\"Frequency\"})\n",
    "  rq2_length_agg_src = merged[[\"Change Frequency Ext\",\"Frequency_y\"]].rename(columns={\"Frequency_y\":\"Frequency\"})\n",
    "\n",
    "  rq2_length_agg_test[\"Type\"] = \"Test\"\n",
    "  rq2_length_agg_src[\"Type\"] = \"Source\"\n",
    "  merged_final = pd.concat([rq2_length_agg_test,rq2_length_agg_src])\n",
    "  merged_final = merged_final.fillna(0)\n",
    "  return merged_final\n",
    "\n",
    "def precessing_impl():\n",
    "  import numpy as np\n",
    "  rq2_length_agg_test = rq2_Df_test[\"Change Frequency Impl\"].value_counts().to_frame(\"Frequency\").reset_index().rename(columns={\"index\":\"Change Frequency Impl\"}).sort_values(by=[\"Change Frequency Impl\"])\n",
    "  rq2_length_agg_src = rq2_Df_src[\"Change Frequency Impl\"].value_counts().to_frame(\"Frequency\").reset_index().rename(columns={\"index\":\"Change Frequency Impl\"}).sort_values(by=[\"Change Frequency Impl\"])\n",
    "  merged = pd.merge(rq2_length_agg_test,rq2_length_agg_src,on=[\"Change Frequency Impl\"],how=\"outer\")\n",
    "  rq2_length_agg_test = merged[[\"Change Frequency Impl\",\"Frequency_x\"]].rename(columns={\"Frequency_x\":\"Frequency\"})\n",
    "  rq2_length_agg_src = merged[[\"Change Frequency Impl\",\"Frequency_y\"]].rename(columns={\"Frequency_y\":\"Frequency\"})\n",
    "\n",
    "  rq2_length_agg_test[\"Type\"] = \"Test\"\n",
    "  rq2_length_agg_src[\"Type\"] = \"Source\"\n",
    "  merged_final = pd.concat([rq2_length_agg_test,rq2_length_agg_src])\n",
    "  merged_final = merged_final.fillna(0)\n",
    "  return merged_final\n",
    "\n",
    "merged_ext = precessing_ext()\n",
    "merged_impl = precessing_impl()\n",
    "\n",
    "# merged_impl = merged_impl[merged_impl[\"Change Frequency Impl\"] != 0].reset_index(drop=True)\n",
    "# merged_ext = merged_ext[merged_ext[\"Change Frequency Ext\"] != 0].reset_index(drop=True)\n"
   ]
  },
  {
   "cell_type": "code",
   "execution_count": 37,
   "metadata": {
    "colab": {
     "base_uri": "https://localhost:8080/"
    },
    "id": "cq6a_CFgOPMe",
    "outputId": "9674f9e6-97f9-46ba-85ad-1a84f83502a2"
   },
   "outputs": [
    {
     "data": {
      "text/plain": [
       "5814.0"
      ]
     },
     "execution_count": 37,
     "metadata": {},
     "output_type": "execute_result"
    }
   ],
   "source": [
    "merged_ext[merged_ext['Type'] == \"Test\"][\"Frequency\"].sum()\n",
    "merged_ext[merged_ext['Type'] == \"Source\"][\"Frequency\"].sum()\n"
   ]
  },
  {
   "cell_type": "code",
   "execution_count": 38,
   "metadata": {
    "id": "63Dvhdj5vxSI"
   },
   "outputs": [],
   "source": [
    "merged_ext[\"Frequency\"] = merged_ext[\"Frequency\"].astype(int)\n",
    "merged_impl[\"Frequency\"] = merged_impl[\"Frequency\"].astype(int)"
   ]
  },
  {
   "cell_type": "code",
   "execution_count": 39,
   "metadata": {
    "colab": {
     "base_uri": "https://localhost:8080/",
     "height": 488
    },
    "id": "0AYpiAJXJG8H",
    "outputId": "a16e3da1-cc94-458b-88dc-0479ef73b756"
   },
   "outputs": [
    {
     "data": {
      "text/plain": [
       "0     2606\n",
       "1      114\n",
       "2       14\n",
       "3        7\n",
       "4        6\n",
       "5        2\n",
       "6        1\n",
       "7        1\n",
       "8        1\n",
       "9        0\n",
       "10       0\n",
       "11       0\n",
       "12       0\n",
       "13       0\n",
       "14       0\n",
       "15       0\n",
       "16       0\n",
       "17       0\n",
       "18       0\n",
       "Name: Frequency, dtype: int32"
      ]
     },
     "execution_count": 39,
     "metadata": {},
     "output_type": "execute_result"
    }
   ],
   "source": [
    "merged_impl[merged_impl[\"Type\"] == \"Test\"][\"Frequency\"]"
   ]
  },
  {
   "cell_type": "code",
   "execution_count": 33,
   "metadata": {
    "colab": {
     "base_uri": "https://localhost:8080/",
     "height": 497
    },
    "id": "pKvjf6Tz6lh7",
    "outputId": "d4b5769d-ef49-4834-e4f1-c3cf73858f89"
   },
   "outputs": [
    {
     "data": {
      "image/png": "[encoded data removed]",
      "text/plain": [
       "<Figure size 720x360 with 2 Axes>"
      ]
     },
     "metadata": {},
     "output_type": "display_data"
    }
   ],
   "source": [
    "import seaborn as sns\n",
    "import matplotlib.pyplot as plt\n",
    "\n",
    "sns.set_theme()\n",
    "sns.set(font_scale=1.1)  # You can adjust the font scale as needed\n",
    "\n",
    "# Create a single figure and axes for the subplot\n",
    "fig, axes = plt.subplots(1,2, figsize=(10, 5))\n",
    "\n",
    "# Create a bar plot for the first dataset\n",
    "sns.barplot(\n",
    "    data=merged_ext,\n",
    "    x=\"Change Frequency Ext\",\n",
    "    y=\"Frequency\",\n",
    "    hue=\"Type\",\n",
    "    ax=axes[0]  # Use the first subplot\n",
    ")\n",
    "ax1 = axes[0]\n",
    "ax1.set_ylabel(\"\")\n",
    "ax1.set_xlabel(\"Inheritance\")  # Remove x-axis label for the first plot\n",
    "\n",
    "# Add data labels to the bars of the first plot\n",
    "for p in ax1.patches:\n",
    "    height = p.get_height()\n",
    "    ax1.annotate(f'{height:.0f}', (p.get_x() + p.get_width() / 2., height),\n",
    "                 ha='center', va='bottom', fontsize=10, color='black')\n",
    "\n",
    "# Create a bar plot for the second dataset\n",
    "sns.barplot(\n",
    "    data=merged_impl,\n",
    "    x=\"Change Frequency Impl\",\n",
    "    y=\"Frequency\",\n",
    "    hue=\"Type\",\n",
    "    ax=axes[1]  # Use the second subplot\n",
    ")\n",
    "ax2 = axes[1]\n",
    "ax2.set_ylabel(\"\")\n",
    "ax2.set_xlabel(\"Interface\")  # Remove x-axis label for the first plot\n",
    "\n",
    "# Add data labels to the bars of the second plot\n",
    "for p in ax2.patches:\n",
    "    height = p.get_height()\n",
    "    ax2.annotate(f'{height:.0f}', (p.get_x() + p.get_width() / 2., height),\n",
    "                 ha='center', va='bottom', fontsize=8, color='black')\n",
    "\n",
    "# Remove extra space between subplots\n",
    "\n",
    "\n",
    "\n",
    "fig.tight_layout()\n",
    "# Save the figure\n",
    "plt.savefig(\"RQ2_Change_Frequency_Subplot.pdf\", format=\"pdf\")\n",
    "\n",
    "# Display the plot\n",
    "plt.show()\n"
   ]
  },
  {
   "cell_type": "markdown",
   "metadata": {
    "id": "HJflEQ60d0XP"
   },
   "source": [
    "# RQ1-B [HOW LONG IN DAYS IT TAKES TO CHANGE INHERITANCE AND INTERFACE]"
   ]
  },
  {
   "cell_type": "code",
   "execution_count": 57,
   "metadata": {
    "id": "E2hsFLGhx_Nb"
   },
   "outputs": [],
   "source": [
    "import numpy as np\n",
    "rq2_Df_test[\"evolution_time_Ext\"] = rq2_Df_test[\"evolution_time_Ext\"].apply(sorted)\n",
    "rq2_Df_src[\"evolution_time_Ext\"] = rq2_Df_src[\"evolution_time_Ext\"].apply(sorted)\n",
    "rq2_Df_test[\"evolution_time_Impl\"] = rq2_Df_test[\"evolution_time_Impl\"].apply(sorted)\n",
    "rq2_Df_src[\"evolution_time_Impl\"] = rq2_Df_src[\"evolution_time_Impl\"].apply(sorted)\n",
    "\n",
    "\n",
    "rq2_Df_test_diff_ext = rq2_Df_test[rq2_Df_test[\"evolution_time_Ext\"].str.len() > 1].reset_index(drop=True)\n",
    "rq2_Df_test_diff_impl= rq2_Df_test[rq2_Df_test[\"evolution_time_Impl\"].str.len() > 1].reset_index(drop=True)\n",
    "rq2_Df_src_diff_ext = rq2_Df_src[rq2_Df_src[\"evolution_time_Ext\"].str.len() > 1].reset_index(drop=True)\n",
    "rq2_Df_src_diff_impl= rq2_Df_src[rq2_Df_src[\"evolution_time_Impl\"].str.len() > 1].reset_index(drop=True)\n",
    "\n",
    "rq2_Df_test_diff_ext[\"Diff\"] = rq2_Df_test_diff_ext[\"evolution_time_Ext\"].apply(lambda x : [i.days for i in np.array(x)[1:]-np.array(x)[0:-1]])\n",
    "rq2_Df_test_diff_impl[\"Diff\"] = rq2_Df_test_diff_impl[\"evolution_time_Impl\"].apply(lambda x : [i.days for i in np.array(x)[1:]-np.array(x)[0:-1]])\n",
    "rq2_Df_src_diff_ext[\"Diff\"] = rq2_Df_src_diff_ext[\"evolution_time_Ext\"].apply(lambda x : [i.days for i in np.array(x)[1:]-np.array(x)[0:-1]])\n",
    "rq2_Df_src_diff_impl[\"Diff\"] = rq2_Df_src_diff_impl[\"evolution_time_Impl\"].apply(lambda x : [i.days for i in np.array(x)[1:]-np.array(x)[0:-1]])\n"
   ]
  },
  {
   "cell_type": "code",
   "execution_count": 62,
   "metadata": {
    "colab": {
     "base_uri": "https://localhost:8080/",
     "height": 424
    },
    "id": "3ja6AzzB1qg1",
    "outputId": "60528b31-65e5-4d74-ab48-643d74a107e1"
   },
   "outputs": [],
   "source": [
    "rq2_Df_test_diff_ext[\"Diff_time\"] = (rq2_Df_test_diff_ext[\"Diff\"]).apply(lambda x: list(range(0,len(x))))\n",
    "# df = (rq2_Df_test_diff_ext.explode([\"Diff\",\"Diff_time\"])[[\"Diff\",\"Diff_time\"]])\n"
   ]
  },
  {
   "cell_type": "code",
   "execution_count": 63,
   "metadata": {
    "id": "tlBOEpP1zPv7"
   },
   "outputs": [],
   "source": [
    "rq2_distribution_merging_test = rq2_Df_test_diff_ext.explode(\"Diff\")[[\"Diff\"]]\n",
    "rq2_distribution_merging_test[\"Type\"] = \"Test\"\n",
    "rq2_distribution_merging_src = rq2_Df_src_diff_ext.explode(\"Diff\")[[\"Diff\"]]\n",
    "rq2_distribution_merging_src[\"Type\"] = \"Source\"\n",
    "\n",
    "rq2_distribution_merging_ext = pd.concat([rq2_distribution_merging_test,rq2_distribution_merging_src])\n",
    "\n",
    "rq2_distribution_merging_test = rq2_Df_test_diff_impl.explode(\"Diff\")[[\"Diff\"]]\n",
    "rq2_distribution_merging_test[\"Type\"] = \"Test\"\n",
    "rq2_distribution_merging_src = rq2_Df_src_diff_impl.explode(\"Diff\")[[\"Diff\"]]\n",
    "rq2_distribution_merging_src[\"Type\"] = \"Source\"\n",
    "\n",
    "rq2_distribution_merging_impl = pd.concat([rq2_distribution_merging_test,rq2_distribution_merging_src])\n"
   ]
  },
  {
   "cell_type": "code",
   "execution_count": 81,
   "metadata": {},
   "outputs": [
    {
     "name": "stdout",
     "output_type": "stream",
     "text": [
      "776.7811860940695\n",
      "245.66700473292767\n",
      "294.6179775280899\n",
      "375.1786090621707\n"
     ]
    }
   ],
   "source": [
    "print(rq2_distribution_merging_ext[rq2_distribution_merging_ext[\"Type\"] == \"Test\"][\"Diff\"].mean())\n",
    "print(rq2_distribution_merging_ext[rq2_distribution_merging_ext[\"Type\"] == \"Source\"][\"Diff\"].mean())\n",
    "print(rq2_distribution_merging_impl[rq2_distribution_merging_impl[\"Type\"] == \"Test\"][\"Diff\"].mean())\n",
    "print(rq2_distribution_merging_impl[rq2_distribution_merging_impl[\"Type\"] == \"Source\"][\"Diff\"].mean())"
   ]
  },
  {
   "cell_type": "code",
   "execution_count": 68,
   "metadata": {},
   "outputs": [
    {
     "data": {
      "text/html": [
       "<div>\n",
       "<style scoped>\n",
       "    .dataframe tbody tr th:only-of-type {\n",
       "        vertical-align: middle;\n",
       "    }\n",
       "\n",
       "    .dataframe tbody tr th {\n",
       "        vertical-align: top;\n",
       "    }\n",
       "\n",
       "    .dataframe thead th {\n",
       "        text-align: right;\n",
       "    }\n",
       "</style>\n",
       "<table border=\"1\" class=\"dataframe\">\n",
       "  <thead>\n",
       "    <tr style=\"text-align: right;\">\n",
       "      <th></th>\n",
       "      <th>Diff</th>\n",
       "      <th>Type</th>\n",
       "    </tr>\n",
       "  </thead>\n",
       "  <tbody>\n",
       "    <tr>\n",
       "      <th>0</th>\n",
       "      <td>0</td>\n",
       "      <td>Test</td>\n",
       "    </tr>\n",
       "    <tr>\n",
       "      <th>0</th>\n",
       "      <td>116</td>\n",
       "      <td>Test</td>\n",
       "    </tr>\n",
       "    <tr>\n",
       "      <th>0</th>\n",
       "      <td>0</td>\n",
       "      <td>Test</td>\n",
       "    </tr>\n",
       "    <tr>\n",
       "      <th>1</th>\n",
       "      <td>2631</td>\n",
       "      <td>Test</td>\n",
       "    </tr>\n",
       "    <tr>\n",
       "      <th>1</th>\n",
       "      <td>1309</td>\n",
       "      <td>Test</td>\n",
       "    </tr>\n",
       "    <tr>\n",
       "      <th>...</th>\n",
       "      <td>...</td>\n",
       "      <td>...</td>\n",
       "    </tr>\n",
       "    <tr>\n",
       "      <th>1024</th>\n",
       "      <td>374</td>\n",
       "      <td>Source</td>\n",
       "    </tr>\n",
       "    <tr>\n",
       "      <th>1025</th>\n",
       "      <td>712</td>\n",
       "      <td>Source</td>\n",
       "    </tr>\n",
       "    <tr>\n",
       "      <th>1026</th>\n",
       "      <td>0</td>\n",
       "      <td>Source</td>\n",
       "    </tr>\n",
       "    <tr>\n",
       "      <th>1027</th>\n",
       "      <td>319</td>\n",
       "      <td>Source</td>\n",
       "    </tr>\n",
       "    <tr>\n",
       "      <th>1027</th>\n",
       "      <td>0</td>\n",
       "      <td>Source</td>\n",
       "    </tr>\n",
       "  </tbody>\n",
       "</table>\n",
       "<p>1987 rows × 2 columns</p>\n",
       "</div>"
      ],
      "text/plain": [
       "      Diff    Type\n",
       "0        0    Test\n",
       "0      116    Test\n",
       "0        0    Test\n",
       "1     2631    Test\n",
       "1     1309    Test\n",
       "...    ...     ...\n",
       "1024   374  Source\n",
       "1025   712  Source\n",
       "1026     0  Source\n",
       "1027   319  Source\n",
       "1027     0  Source\n",
       "\n",
       "[1987 rows x 2 columns]"
      ]
     },
     "execution_count": 68,
     "metadata": {},
     "output_type": "execute_result"
    }
   ],
   "source": [
    "rq2_distribution_merging_impl"
   ]
  },
  {
   "cell_type": "code",
   "execution_count": 2,
   "metadata": {
    "colab": {
     "base_uri": "https://localhost:8080/",
     "height": 477
    },
    "id": "-RRu3G05e2g0",
    "outputId": "d60b035c-aa1c-416e-abf1-a187601bacd9"
   },
   "outputs": [],
   "source": [
    "g1 =  sns.boxplot(data=rq2_distribution_merging_ext, x=\"Type\", y=\"Diff\")\n",
    "g1.set_ylabel(\"Days\")\n",
    "g1.set_xlabel(\"Inheritance\")\n",
    "medians = rq2_distribution_merging_ext.groupby('Type')['Diff'].mean()\n",
    "# Add median annotations to the plot\n",
    "plt.text(1, medians[\"Source\"], f'Median: {medians[\"Source\"]:.0f}', ha='center', va='bottom', fontsize=10, color='black')\n",
    "plt.text(0, medians[\"Test\"], f'Median: {medians[\"Test\"]:.0f}', ha='center', va='bottom', fontsize=10, color='black')\n",
    "\n",
    "plt.tight_layout()\n",
    "plt.savefig(\"RQ2_Change_Day_Inheritance.pdf\")\n",
    "\n"
   ]
  },
  {
   "cell_type": "code",
   "execution_count": null,
   "metadata": {
    "colab": {
     "base_uri": "https://localhost:8080/",
     "height": 477
    },
    "id": "8ipQfRDJ4Qkn",
    "outputId": "4a80f88b-e2c1-44f7-c264-2cd850e03001"
   },
   "outputs": [
    {
     "data": {
      "image/png": "[encoded data removed]",
      "text/plain": [
       "<Figure size 640x480 with 1 Axes>"
      ]
     },
     "metadata": {},
     "output_type": "display_data"
    }
   ],
   "source": [
    "g2 =  sns.boxplot(data=rq2_distribution_merging_impl, x=\"Type\", y=\"Diff\")\n",
    "g2.set_ylabel(\"Days\")\n",
    "g2.set_xlabel(\"Interface\")\n",
    "medians = rq2_distribution_merging_impl.groupby('Type')['Diff'].mean()\n",
    "\n",
    "# Add median annotations to the plot\n",
    "plt.text(1, medians[\"Source\"], f'Mean: {medians[\"Source\"]:.0f}', ha='center', va='bottom', fontsize=10, color='black')\n",
    "plt.text(0, medians[\"Test\"], f'Mean: {medians[\"Test\"]:.0f}', ha='center', va='bottom', fontsize=10, color='black')\n",
    "plt.tight_layout()\n",
    "plt.savefig(\"RQ2_Change_Day_Interface.pdf\")"
   ]
  },
  {
   "cell_type": "markdown",
   "metadata": {
    "id": "tzN73nYruYcc"
   },
   "source": [
    "# RQ1-C [ COMLEXITY ]"
   ]
  },
  {
   "cell_type": "code",
   "execution_count": 19,
   "metadata": {
    "id": "NqX_KenduaV1"
   },
   "outputs": [],
   "source": [
    "PATH_COMPLEX = os.path.join(\"Dataset\",\"result_inheritance\")\n",
    "REPO_PATH = 'repo'"
   ]
  },
  {
   "cell_type": "code",
   "execution_count": 78,
   "metadata": {
    "id": "SKBXo1HInkNG"
   },
   "outputs": [],
   "source": [
    "test = pd.read_csv(\"beginning_test.csv\")\n",
    "source = pd.read_csv(\"beginning_source.csv\")\n",
    "test['ext'] = test['ext'].apply(ast.literal_eval)\n",
    "test['impl']= test['impl'].apply(ast.literal_eval)\n",
    "source['ext']= source['ext'].apply(ast.literal_eval)\n",
    "source['impl']= source['impl'].apply(ast.literal_eval)\n",
    "\n",
    "test['ext'] = test[\"ext\"].apply(lambda x: [i for i in x if not i.lower() in [\"testcase\",\"assert\",\"git parsed failed\",\"git show failed\"]])\n",
    "source['ext'] = source[\"ext\"].apply(lambda x: [i for i in x if not i.lower() in [\"testcase\",\"assert\",\"git parsed failed\",\"git show failed\"]])"
   ]
  },
  {
   "cell_type": "code",
   "execution_count": null,
   "metadata": {
    "id": "NNsR3K84nk6I"
   },
   "outputs": [],
   "source": [
    "result_test = []\n",
    "result_source = []\n",
    "for project,g in test.groupby(\"project\"):\n",
    "    data = json.load(open(os.path.join(PATH_RFT,project,project+\"_refactoring_tree.json\")))\n",
    "    selected = test[test[\"project\"] == project].reset_index()\n",
    "\n",
    "    for index,t in enumerate(selected[\"file\"]):\n",
    "        temp = []\n",
    "        for jndex in data[t]:\n",
    "            row = data[t][jndex]\n",
    "            commit = (row[\"commit\"])\n",
    "            lr = (row[\"left ==> right\"])\n",
    "            rft = (row[\"refactoring\"])\n",
    "            has_rft = (re.search(\".* (extension|implementation)\", rft.lower()))\n",
    "            if has_rft:\n",
    "                temp.append(commit+\"::\"+lr+\"::\"+has_rft.group(0))\n",
    "        result_test.append([project,t,temp,len(selected[\"ext\"].iloc[index])])\n",
    "\n",
    "    selected = source[source[\"project\"] == project].reset_index()\n",
    "    for index,t in enumerate(selected[\"file\"]):\n",
    "        temp = []\n",
    "        for jndex in data[t]:\n",
    "            row = data[t][jndex]\n",
    "            commit = (row[\"commit\"])\n",
    "            lr = (row[\"left ==> right\"])\n",
    "            rft = (row[\"refactoring\"])\n",
    "            has_rft = (re.search(\".* (extension|implementation)\", rft.lower()))\n",
    "            if has_rft:\n",
    "                temp.append(commit+\"::\"+lr+\"::\"+has_rft.group(0))\n",
    "        result_source.append([project,t,temp,len(selected[\"ext\"].iloc[index])])\n",
    "df_test = pd.DataFrame(result_test,columns=[\"project\",\"file\",\"evolve\",\"inheritance_created\"])\n",
    "df_source = pd.DataFrame(result_source,columns=[\"project\",\"file\",\"evolve\",\"inheritance_created\"])\n",
    "df_test[\"evolve_len\"] = df_test[\"evolve\"].apply(len)\n",
    "df_source[\"evolve_len\"] = df_source[\"evolve\"].apply(len)\n",
    "df_test.to_csv(\"test_evolution.csv\")\n"
   ]
  },
  {
   "cell_type": "code",
   "execution_count": null,
   "metadata": {
    "id": "C7lSENxGn45h"
   },
   "outputs": [],
   "source": [
    "def get_json(p):\n",
    "    inheritance_deep = os.path.join(PATH_COMPLEX,p.lower()+\"_inheritance_commitHistory_total.json\")\n",
    "    inheritance_deep = json.load(open(inheritance_deep,encoding='utf-8'))\n",
    "    return inheritance_deep\n"
   ]
  },
  {
   "cell_type": "code",
   "execution_count": 54,
   "metadata": {
    "colab": {
     "base_uri": "https://localhost:8080/"
    },
    "id": "hPocoF2vudjJ",
    "outputId": "6068fdae-e53a-4f49-ad68-638637b654dc"
   },
   "outputs": [
    {
     "name": "stderr",
     "output_type": "stream",
     "text": [
      "100%|██████████| 12/12 [03:22<00:00, 16.91s/it]\n"
     ]
    }
   ],
   "source": [
    "\n",
    "def get_complexity(df,inheritance_deep,project):\n",
    "    result = []\n",
    "    for i in tqdm(range(0,df.shape[0])):\n",
    "        evolve = (df[\"evolve\"].iloc[i])\n",
    "        file = (df[\"file\"].iloc[i])\n",
    "        for version in evolve:\n",
    "            commit,lr,rft = version.split(\"::\")\n",
    "            if not rft in [\"add class extension\",\"add class implementation\", \\\n",
    "                          \"replace class extension\",\"replace class implementation\"] :\n",
    "                continue\n",
    "            lfile,rfile = lr.split(\" ==> \")\n",
    "            # found the one with right commits\n",
    "            found_commits = [k for k in inheritance_deep if (commit in k)]\n",
    "            found = [f for f in found_commits if (f.split(\"::\")[-1].replace(\".\",\"/\")+\".java\").lower() in rfile.lower()]\n",
    "            if len(found) > 0:\n",
    "                #'class vertex', 'superclass', 'class edge', 'subclass', 'modified class'\n",
    "                superclass = (inheritance_deep[found[0]][\"superclass\"])\n",
    "                result.append([project,file,rft,evolve,superclass])\n",
    "\n",
    "    return pd.DataFrame(result,columns=[\"project\",\"file\",\"rft\",\"evolve\",\"supercass\"])\n"
   ]
  },
  {
   "cell_type": "code",
   "execution_count": 79,
   "metadata": {
    "id": "SNMuY_hngv5R"
   },
   "outputs": [],
   "source": [
    "res_source = []\n",
    "res_test = []\n",
    "for p in projects:\n",
    "    g_test = df_test[df_test[\"project\"] == p]\n",
    "    g_source = df_source[df_source[\"project\"] == p]\n",
    "    inheritance_deep = get_json(p)\n",
    "\n",
    "    res_test.append(get_complexity(g_test,inheritance_deep,p))\n",
    "    res_source.append(get_complexity(g_source,inheritance_deep,p))\n"
   ]
  },
  {
   "cell_type": "code",
   "execution_count": null,
   "metadata": {
    "id": "kgogwCIBoipF"
   },
   "outputs": [],
   "source": [
    "df_complex_source = pd.concat(res_source)\n",
    "df_complex_test= pd.concat(res_test)\n",
    "\n",
    "df_complex_source = pd.concat(res_source)\n",
    "df_complex_test= pd.concat(res_test)\n",
    "\n",
    "df_complex_source.to_csv(\"source_complexity.csv\")\n",
    "df_complex_test.to_csv(\"test_complexity.csv\")\n",
    "\n",
    "df_complex_source[\"len_clean\"] = (df_complex_source[\"supercass\"].str[0:-1].apply(len))\n",
    "df_complex_test[\"len_clean\"] = (df_complex_test[\"supercass\"].str[0:-1].apply(len))\n",
    "\n",
    "y_add_test_ext = df_complex_test[df_complex_test[\"rft\"] == \"add class extension\"][\"len_clean\"].tolist()\n",
    "y_replace_test_ext = df_complex_test[df_complex_test[\"rft\"] == \"replace class extension\"][\"len_clean\"].tolist()\n",
    "y_add_src_ext = df_complex_source[df_complex_source[\"rft\"] == \"add class extension\"][\"len_clean\"].tolist()\n",
    "y_replace_src_ext = df_complex_source[df_complex_source[\"rft\"] == \"replace class extension\"][\"len_clean\"].tolist()\n",
    "\n",
    "y_add_test_impl = df_complex_test[df_complex_test[\"rft\"] == \"add class implementation\"][\"len_clean\"].tolist()\n",
    "y_replace_test_impl = df_complex_test[df_complex_test[\"rft\"] == \"replace class implementation\"][\"len_clean\"].tolist()\n",
    "y_add_src_impl = df_complex_source[df_complex_source[\"rft\"] == \"add class implementation\"][\"len_clean\"].tolist()\n",
    "y_replace_src_impl = df_complex_source[df_complex_source[\"rft\"] == \"replace class implementation\"][\"len_clean\"].tolist()\n",
    "\n",
    "import plotly.express as px\n",
    "\n",
    "fig = make_subplots(rows=1, cols=4,\n",
    "                    y_title=\"Depth of <br> Inheritance Tree\"\n",
    "                    )\n",
    "\n",
    "fig.add_trace(go.Box(y=y_add_test_ext,\n",
    "                     marker_color='#1338BE',\n",
    "                    name='Test File'),row=1,col=1)\n",
    "\n",
    "\n",
    "fig.add_trace(go.Box(y=y_add_src_ext,\n",
    "                     marker_color='#F75D59',\n",
    "                    name='Source File'),row=1,col=1)\n",
    "\n",
    "\n",
    "fig.add_trace(go.Box(y=y_replace_test_ext,\n",
    "                    marker_color='#1338BE',\n",
    "                    name='Test File'),row=1,col=2)\n",
    "\n",
    "fig.add_trace(go.Box(y=y_replace_src_ext,\n",
    "                    marker_color='#F75D59',\n",
    "                    name='Source File'),row=1,col=2)\n",
    "\n",
    "\n",
    "fig.add_trace(go.Box(y=y_add_test_impl,\n",
    "                     marker_color='#1338BE',\n",
    "                    name='Test File'),row=1,col=3)\n",
    "\n",
    "\n",
    "fig.add_trace(go.Box(y=y_add_src_impl,\n",
    "                     marker_color='#F75D59',\n",
    "                    name='Source File'),row=1,col=3)\n",
    "\n",
    "\n",
    "fig.add_trace(go.Box(y=y_replace_test_impl,\n",
    "                    marker_color='#1338BE',\n",
    "                    name='Test File'),row=1,col=4)\n",
    "\n",
    "fig.add_trace(go.Box(y=y_replace_src_impl,\n",
    "                    marker_color='#F75D59',\n",
    "                    name='Source File'),row=1,col=4)\n",
    "\n",
    "fig.update_xaxes(title_font_family=\"Arial\",title=\"Add Class <br> Ext.\",row=1,col=1)\n",
    "fig.update_xaxes(title_font_family=\"Arial\",title=\"Replace Class <br> Ext.\",row=1,col=2)\n",
    "fig.update_xaxes(title_font_family=\"Arial\",title=\"Add Class <br> Impl.\",row=1,col=3)\n",
    "fig.update_xaxes(title_font_family=\"Arial\",title=\"Replace Class <br> Impl.\",row=1,col=4)\n",
    "\n",
    "fig.update_layout(\n",
    "     height=300, width=1000,\n",
    "     margin=go.layout.Margin(\n",
    "        t=10,  #top margin,\n",
    "        b=0\n",
    "    ),\n",
    "    showlegend=False\n",
    ")\n",
    "fig.update_xaxes(title_font_family=\"Arial\",title=\"Code Type\")\n",
    "fig.update_yaxes(title_font_family=\"Arial\",title=\"No. of Days <br> Between Inheritance Changes\")\n",
    "\n"
   ]
  }
 ],
 "metadata": {
  "colab": {
   "machine_shape": "hm",
   "provenance": []
  },
  "kernelspec": {
   "display_name": "Python 3",
   "language": "python",
   "name": "python3"
  },
  "language_info": {
   "codemirror_mode": {
    "name": "ipython",
    "version": 3
   },
   "file_extension": ".py",
   "mimetype": "text/x-python",
   "name": "python",
   "nbconvert_exporter": "python",
   "pygments_lexer": "ipython3",
   "version": "3.8.2"
  }
 },
 "nbformat": 4,
 "nbformat_minor": 1
}
