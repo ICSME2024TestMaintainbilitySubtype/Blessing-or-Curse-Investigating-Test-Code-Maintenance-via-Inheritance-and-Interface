{
 "cells": [
  {
   "cell_type": "code",
   "execution_count": 1,
   "metadata": {},
   "outputs": [],
   "source": [
    "import os\n",
    "import pandas as pd\n",
    "import json\n",
    "import git\n",
    "from tqdm import tqdm\n",
    "import ast\n",
    "import networkx as nx\n",
    "\n",
    "PATH_RFT = os.path.join(\"dataset\",\"result_refactoring\")\n"
   ]
  },
  {
   "cell_type": "code",
   "execution_count": 2,
   "metadata": {},
   "outputs": [],
   "source": [
    "projects = [\"cayenne\",\"commons-collections\",\"cucumber-jvm\",\"cxf\",\"httpcomponents-client\",\"iotdb\",\"jclouds\",\"kylin\",\"maven\",\"opennlp\",\"ranger\",\"ratis\",\"wicket\"]"
   ]
  },
  {
   "cell_type": "markdown",
   "metadata": {},
   "source": [
    "# Building Evolution Graph"
   ]
  },
  {
   "cell_type": "markdown",
   "metadata": {},
   "source": [
    "### verify mapping prior to building evolution graph"
   ]
  },
  {
   "cell_type": "code",
   "execution_count": 16,
   "metadata": {
    "scrolled": true
   },
   "outputs": [
    {
     "name": "stderr",
     "output_type": "stream",
     "text": [
      "\r",
      "  0%|                                                                                                                                                                                      | 0/13 [00:00<?, ?it/s]"
     ]
    },
    {
     "name": "stdout",
     "output_type": "stream",
     "text": [
      "build project:  cayenne\n"
     ]
    },
    {
     "name": "stderr",
     "output_type": "stream",
     "text": [
      "\r",
      "  8%|█████████████▍                                                                                                                                                                | 1/13 [00:00<00:10,  1.10it/s]"
     ]
    },
    {
     "name": "stdout",
     "output_type": "stream",
     "text": [
      "build project:  commons-collections\n"
     ]
    },
    {
     "name": "stderr",
     "output_type": "stream",
     "text": [
      "\r",
      " 15%|██████████████████████████▊                                                                                                                                                   | 2/13 [00:02<00:16,  1.52s/it]"
     ]
    },
    {
     "name": "stdout",
     "output_type": "stream",
     "text": [
      "build project:  cucumber-jvm\n"
     ]
    },
    {
     "name": "stderr",
     "output_type": "stream",
     "text": [
      "\r",
      " 23%|████████████████████████████████████████▏                                                                                                                                     | 3/13 [00:04<00:16,  1.70s/it]"
     ]
    },
    {
     "name": "stdout",
     "output_type": "stream",
     "text": [
      "build project:  cxf\n"
     ]
    },
    {
     "name": "stderr",
     "output_type": "stream",
     "text": [
      "\r",
      " 31%|█████████████████████████████████████████████████████▌                                                                                                                        | 4/13 [00:20<01:05,  7.26s/it]"
     ]
    },
    {
     "name": "stdout",
     "output_type": "stream",
     "text": [
      "build project:  httpcomponents-client\n"
     ]
    },
    {
     "name": "stderr",
     "output_type": "stream",
     "text": [
      "\r",
      " 38%|██████████████████████████████████████████████████████████████████▉                                                                                                           | 5/13 [00:28<00:59,  7.39s/it]"
     ]
    },
    {
     "name": "stdout",
     "output_type": "stream",
     "text": [
      "build project:  iotdb\n"
     ]
    },
    {
     "name": "stderr",
     "output_type": "stream",
     "text": [
      "\r",
      " 46%|████████████████████████████████████████████████████████████████████████████████▎                                                                                             | 6/13 [00:44<01:13, 10.52s/it]"
     ]
    },
    {
     "name": "stdout",
     "output_type": "stream",
     "text": [
      "build project:  jclouds\n"
     ]
    },
    {
     "name": "stderr",
     "output_type": "stream",
     "text": [
      "\r",
      " 54%|█████████████████████████████████████████████████████████████████████████████████████████████▋                                                                                | 7/13 [01:36<02:24, 24.11s/it]"
     ]
    },
    {
     "name": "stdout",
     "output_type": "stream",
     "text": [
      "build project:  kylin\n"
     ]
    },
    {
     "name": "stderr",
     "output_type": "stream",
     "text": [
      "\r",
      " 62%|███████████████████████████████████████████████████████████████████████████████████████████████████████████                                                                   | 8/13 [02:33<02:51, 34.33s/it]"
     ]
    },
    {
     "name": "stdout",
     "output_type": "stream",
     "text": [
      "build project:  maven\n"
     ]
    },
    {
     "name": "stderr",
     "output_type": "stream",
     "text": [
      "\r",
      " 69%|████████████████████████████████████████████████████████████████████████████████████████████████████████████████████████▍                                                     | 9/13 [04:01<03:24, 51.18s/it]"
     ]
    },
    {
     "name": "stdout",
     "output_type": "stream",
     "text": [
      "build project:  opennlp\n"
     ]
    },
    {
     "name": "stderr",
     "output_type": "stream",
     "text": [
      "\r",
      " 77%|█████████████████████████████████████████████████████████████████████████████████████████████████████████████████████████████████████                                        | 10/13 [04:16<01:59, 39.97s/it]"
     ]
    },
    {
     "name": "stdout",
     "output_type": "stream",
     "text": [
      "build project:  ranger\n"
     ]
    },
    {
     "name": "stderr",
     "output_type": "stream",
     "text": [
      "\r",
      " 85%|██████████████████████████████████████████████████████████████████████████████████████████████████████████████████████████████████████████████████▍                          | 11/13 [04:44<01:12, 36.35s/it]"
     ]
    },
    {
     "name": "stdout",
     "output_type": "stream",
     "text": [
      "build project:  ratis\n"
     ]
    },
    {
     "name": "stderr",
     "output_type": "stream",
     "text": [
      "\r",
      " 92%|███████████████████████████████████████████████████████████████████████████████████████████████████████████████████████████████████████████████████████████████▋             | 12/13 [04:54<00:28, 28.24s/it]"
     ]
    },
    {
     "name": "stdout",
     "output_type": "stream",
     "text": [
      "build project:  wicket\n"
     ]
    },
    {
     "name": "stderr",
     "output_type": "stream",
     "text": [
      "100%|█████████████████████████████████████████████████████████████████████████████████████████████████████████████████████████████████████████████████████████████████████████████| 13/13 [08:10<00:00, 37.73s/it]\n"
     ]
    }
   ],
   "source": [
    "def get_relevant_rft(project,current_rfts,commit_sha,G):\n",
    "    keys = [\"rename class\",\"move class\",\"rename package\",\"move source folder\",\"move and rename class\", \\\n",
    "            \"add class extension\",\"remove class extension\",\"replace class extension\", \\\n",
    "            \"add class implementation\",\"remove class implementation\",\"replace class implementation\", \\\n",
    "            \"extract superclass\", \"extract class\", \"extract subclass\"]\n",
    "    found = []\n",
    "    for r in current_rfts:\n",
    "        description = r[\"description\"].lower()\n",
    "        left = [i for i in r[\"leftSideLocations\"] if \"TYPE_DECLARATION\" == i[\"codeElementType\"]]\n",
    "        right = [i for i in r[\"rightSideLocations\"] if \"TYPE_DECLARATION\" == i[\"codeElementType\"]]\n",
    "        if (\"rename class\" in r[\"type\"].lower() or \\\n",
    "           \"move class\" in r[\"type\"].lower() or \\\n",
    "            \"move source folder\" in r[\"type\"].lower() or \\\n",
    "            \"move and rename class\" in r[\"type\"].lower() or \\\n",
    "            \"extract class\" in r[\"type\"].lower() or \\\n",
    "            \"extract subclass\" in r[\"type\"].lower() or \\\n",
    "            \"rename packag\" in r[\"type\"].lower() or \\\n",
    "            \"class extension\" in r[\"type\"].lower() or \\\n",
    "            \"class implementation\" in r[\"type\"].lower()):\n",
    "            \n",
    "            for l_node,r_node in zip(left,right):\n",
    "                G.add_node(l_node[\"filePath\"],label=commit_sha+\"::\"+l_node[\"filePath\"])\n",
    "                G.add_node(r_node[\"filePath\"],label=commit_sha+\"::\"+r_node[\"filePath\"])\n",
    "                G.add_edge(l_node[\"filePath\"],r_node[\"filePath\"],weight=commit_sha+\"::\"+description,title=commit_sha+\"::\"+description,commit=commit_sha,arrowStrikethrough=True)\n",
    "\n",
    "        elif (\"extract superclass\" in r[\"type\"].lower()):\n",
    "            for l_node in left:\n",
    "                for r_node in right:\n",
    "                    G.add_node(l_node[\"filePath\"],label=commit_sha+\"::\"+l_node[\"filePath\"])\n",
    "                    G.add_node(r_node[\"filePath\"],label=commit_sha+\"::\"+r_node[\"filePath\"])\n",
    "                    G.add_edge(l_node[\"filePath\"],r_node[\"filePath\"],weight=commit_sha+\"::\"+description,title=commit_sha+\"::\"+description,commit=commit_sha,arrowStrikethrough=True)\n",
    "\n",
    "        found.append([project,commit_sha,commit_sha+\"::\"+description,len(left),len(right)])\n",
    "    return found,G\n",
    "                \n",
    "    \n",
    "def checking_mapping_for_verfication():\n",
    "    result = []\n",
    "    for project in tqdm(projects):\n",
    "        print(\"build project: \",project)\n",
    "        data = json.load(open(os.path.join(PATH_RFT,project,project+\"_refactoring_history.json\")))\n",
    "\n",
    "        rfts = []\n",
    "        data = data[\"commits\"]\n",
    "        data.reverse()\n",
    "\n",
    "        G = nx.MultiDiGraph()\n",
    "        for commit_obj in (data):\n",
    "            rfts,_ = get_relevant_rft(project,commit_obj[\"refactorings\"],commit_obj[\"sha1\"],G)\n",
    "            result = result + (rfts)\n",
    "            \n",
    "    return result\n",
    "\n",
    "result = checking_mapping_for_verfication()\n",
    "\n"
   ]
  },
  {
   "cell_type": "code",
   "execution_count": 20,
   "metadata": {},
   "outputs": [
    {
     "data": {
      "text/html": [
       "<div>\n",
       "<style scoped>\n",
       "    .dataframe tbody tr th:only-of-type {\n",
       "        vertical-align: middle;\n",
       "    }\n",
       "\n",
       "    .dataframe tbody tr th {\n",
       "        vertical-align: top;\n",
       "    }\n",
       "\n",
       "    .dataframe thead th {\n",
       "        text-align: right;\n",
       "    }\n",
       "</style>\n",
       "<table border=\"1\" class=\"dataframe\">\n",
       "  <thead>\n",
       "    <tr style=\"text-align: right;\">\n",
       "      <th></th>\n",
       "      <th>p</th>\n",
       "      <th>c</th>\n",
       "      <th>rft</th>\n",
       "      <th>len_left</th>\n",
       "      <th>len_right</th>\n",
       "    </tr>\n",
       "  </thead>\n",
       "  <tbody>\n",
       "    <tr>\n",
       "      <th>0</th>\n",
       "      <td>cayenne</td>\n",
       "      <td>1d6568674ba2205448500ab134778e990aa69c96</td>\n",
       "      <td>1d6568674ba2205448500ab134778e990aa69c96::move...</td>\n",
       "      <td>0</td>\n",
       "      <td>0</td>\n",
       "    </tr>\n",
       "    <tr>\n",
       "      <th>1</th>\n",
       "      <td>cayenne</td>\n",
       "      <td>c4b528b30a0e284ff69f93b43527aecf5cd3d6d6</td>\n",
       "      <td>c4b528b30a0e284ff69f93b43527aecf5cd3d6d6::move...</td>\n",
       "      <td>0</td>\n",
       "      <td>0</td>\n",
       "    </tr>\n",
       "    <tr>\n",
       "      <th>2</th>\n",
       "      <td>cayenne</td>\n",
       "      <td>e463112fce75abc74ea500709c109f7a21abb1c0</td>\n",
       "      <td>e463112fce75abc74ea500709c109f7a21abb1c0::move...</td>\n",
       "      <td>0</td>\n",
       "      <td>0</td>\n",
       "    </tr>\n",
       "    <tr>\n",
       "      <th>3</th>\n",
       "      <td>cayenne</td>\n",
       "      <td>6f8365b78de6c5dca83a9b2f54a119072e9c8e76</td>\n",
       "      <td>6f8365b78de6c5dca83a9b2f54a119072e9c8e76::move...</td>\n",
       "      <td>0</td>\n",
       "      <td>0</td>\n",
       "    </tr>\n",
       "    <tr>\n",
       "      <th>4</th>\n",
       "      <td>cayenne</td>\n",
       "      <td>56d93dcdec85240157a95d418722ce974f4f7e26</td>\n",
       "      <td>56d93dcdec85240157a95d418722ce974f4f7e26::move...</td>\n",
       "      <td>0</td>\n",
       "      <td>0</td>\n",
       "    </tr>\n",
       "    <tr>\n",
       "      <th>...</th>\n",
       "      <td>...</td>\n",
       "      <td>...</td>\n",
       "      <td>...</td>\n",
       "      <td>...</td>\n",
       "      <td>...</td>\n",
       "    </tr>\n",
       "    <tr>\n",
       "      <th>465658</th>\n",
       "      <td>wicket</td>\n",
       "      <td>41689ce8ec1b41806d8cb61e08abf6227f421531</td>\n",
       "      <td>41689ce8ec1b41806d8cb61e08abf6227f421531::chan...</td>\n",
       "      <td>0</td>\n",
       "      <td>0</td>\n",
       "    </tr>\n",
       "    <tr>\n",
       "      <th>465659</th>\n",
       "      <td>wicket</td>\n",
       "      <td>41689ce8ec1b41806d8cb61e08abf6227f421531</td>\n",
       "      <td>41689ce8ec1b41806d8cb61e08abf6227f421531::chan...</td>\n",
       "      <td>0</td>\n",
       "      <td>0</td>\n",
       "    </tr>\n",
       "    <tr>\n",
       "      <th>465660</th>\n",
       "      <td>wicket</td>\n",
       "      <td>41689ce8ec1b41806d8cb61e08abf6227f421531</td>\n",
       "      <td>41689ce8ec1b41806d8cb61e08abf6227f421531::chan...</td>\n",
       "      <td>0</td>\n",
       "      <td>0</td>\n",
       "    </tr>\n",
       "    <tr>\n",
       "      <th>465661</th>\n",
       "      <td>wicket</td>\n",
       "      <td>41689ce8ec1b41806d8cb61e08abf6227f421531</td>\n",
       "      <td>41689ce8ec1b41806d8cb61e08abf6227f421531::chan...</td>\n",
       "      <td>1</td>\n",
       "      <td>1</td>\n",
       "    </tr>\n",
       "    <tr>\n",
       "      <th>465662</th>\n",
       "      <td>wicket</td>\n",
       "      <td>41689ce8ec1b41806d8cb61e08abf6227f421531</td>\n",
       "      <td>41689ce8ec1b41806d8cb61e08abf6227f421531::remo...</td>\n",
       "      <td>1</td>\n",
       "      <td>1</td>\n",
       "    </tr>\n",
       "  </tbody>\n",
       "</table>\n",
       "<p>465663 rows × 5 columns</p>\n",
       "</div>"
      ],
      "text/plain": [
       "              p                                         c  \\\n",
       "0       cayenne  1d6568674ba2205448500ab134778e990aa69c96   \n",
       "1       cayenne  c4b528b30a0e284ff69f93b43527aecf5cd3d6d6   \n",
       "2       cayenne  e463112fce75abc74ea500709c109f7a21abb1c0   \n",
       "3       cayenne  6f8365b78de6c5dca83a9b2f54a119072e9c8e76   \n",
       "4       cayenne  56d93dcdec85240157a95d418722ce974f4f7e26   \n",
       "...         ...                                       ...   \n",
       "465658   wicket  41689ce8ec1b41806d8cb61e08abf6227f421531   \n",
       "465659   wicket  41689ce8ec1b41806d8cb61e08abf6227f421531   \n",
       "465660   wicket  41689ce8ec1b41806d8cb61e08abf6227f421531   \n",
       "465661   wicket  41689ce8ec1b41806d8cb61e08abf6227f421531   \n",
       "465662   wicket  41689ce8ec1b41806d8cb61e08abf6227f421531   \n",
       "\n",
       "                                                      rft  len_left  len_right  \n",
       "0       1d6568674ba2205448500ab134778e990aa69c96::move...         0          0  \n",
       "1       c4b528b30a0e284ff69f93b43527aecf5cd3d6d6::move...         0          0  \n",
       "2       e463112fce75abc74ea500709c109f7a21abb1c0::move...         0          0  \n",
       "3       6f8365b78de6c5dca83a9b2f54a119072e9c8e76::move...         0          0  \n",
       "4       56d93dcdec85240157a95d418722ce974f4f7e26::move...         0          0  \n",
       "...                                                   ...       ...        ...  \n",
       "465658  41689ce8ec1b41806d8cb61e08abf6227f421531::chan...         0          0  \n",
       "465659  41689ce8ec1b41806d8cb61e08abf6227f421531::chan...         0          0  \n",
       "465660  41689ce8ec1b41806d8cb61e08abf6227f421531::chan...         0          0  \n",
       "465661  41689ce8ec1b41806d8cb61e08abf6227f421531::chan...         1          1  \n",
       "465662  41689ce8ec1b41806d8cb61e08abf6227f421531::remo...         1          1  \n",
       "\n",
       "[465663 rows x 5 columns]"
      ]
     },
     "execution_count": 20,
     "metadata": {},
     "output_type": "execute_result"
    }
   ],
   "source": [
    "pd.DataFrame(result,columns=[\"p\",\"c\",\"rft\",\"len_left\",\"len_right\"])"
   ]
  },
  {
   "cell_type": "code",
   "execution_count": 12,
   "metadata": {},
   "outputs": [],
   "source": [
    "stats = pd.DataFrame(result,columns=[\"p\",\"c\",\"rft\",\"len_left\",\"len_right\"])\n",
    "\n",
    "# 1 to 1 mapping\n",
    "move_src_fold = stats[stats[\"rft\"] == \"move source folder\"]\n",
    "assert move_src_fold[move_src_fold[\"len_left\"] != move_src_fold[\"len_right\"]].shape[0] == 0, \"asserting that move src fold == 0\"\n",
    "\n",
    "move_class = stats[stats[\"rft\"] == \"move class\"]\n",
    "assert move_class[move_class[\"len_left\"] != move_class[\"len_right\"]].shape[0] == 0, \"asserting that move class  == 0\"\n",
    "\n",
    "rename_class = stats[stats[\"rft\"] == \"rename class\"]\n",
    "assert rename_class[rename_class[\"len_left\"] != rename_class[\"len_right\"]].shape[0] == 0, \"asserting that rename_class == 0\"\n",
    "\n",
    "move_and_rename_class = stats[stats[\"rft\"] == \"move and rename class\"]\n",
    "assert move_and_rename_class[move_and_rename_class[\"len_left\"] != move_and_rename_class[\"len_right\"]].shape[0] == 0, \"asserting that move and rename class == 0\"\n",
    "\n",
    "extract_class = stats[stats[\"rft\"] == \"extract class\"]\n",
    "assert extract_class[extract_class[\"len_left\"] != extract_class[\"len_right\"]].shape[0] == 0, \"asserting that move and rename class == 0\"\n",
    "\n",
    "rename_package = stats[stats[\"rft\"] == \"rename package\"]\n",
    "assert rename_package[rename_package[\"len_left\"] != rename_package[\"len_right\"]].shape[0] == 0, \"asserting that rename package == 0\"\n",
    "\n",
    "extract_subclass = stats[stats[\"rft\"] == \"extract subclass\"]\n",
    "assert extract_subclass[extract_subclass[\"len_left\"] != extract_subclass[\"len_right\"]].shape[0] == 0, \"asserting that extract_subclass == 0\"\n",
    "\n",
    "# x to 1 mapping is only extract superclass\n",
    "extract_superclass = stats[stats[\"rft\"] == \"extract superclass\"]\n",
    "assert extract_superclass[extract_superclass[\"len_right\"] == 1].shape[0] == extract_superclass.shape[0], \"asserting that extract_superclass always maps to 1\"\n",
    "\n",
    "\n",
    "# 1 to 1 mapping for extension\n",
    "extension = stats[stats[\"rft\"].str.contains(\"extension\")]\n",
    "assert extension[extension[\"len_left\"] != extension[\"len_right\"]].shape[0] == 0, \"asserting that extract_superclass always maps to 1\"\n",
    "\n",
    "# 1 to 1 mapping for extension\n",
    "implementation = stats[stats[\"rft\"].str.contains(\"implementation\")]\n",
    "assert implementation[implementation[\"len_left\"] != implementation[\"len_right\"]].shape[0] == 0, \"asserting that extract_superclass always maps to 1\"\n"
   ]
  },
  {
   "cell_type": "markdown",
   "metadata": {},
   "source": [
    "### Data cleaning from refactoring miner"
   ]
  },
  {
   "cell_type": "code",
   "execution_count": null,
   "metadata": {},
   "outputs": [],
   "source": [
    "def fix_move_source_folder(project, data):\n",
    "    repo = git.Repo(os.path.join(\"repo\",project))\n",
    "    for commit_obj in data:\n",
    "        for r in commit_obj[\"refactorings\"]:\n",
    "                if r[\"type\"].lower() == \"move source folder\" and len(r[\"leftSideLocations\"]) == 0:\n",
    "                    git_obj = repo.commit(commit_obj[\"sha1\"])\n",
    "                    left = []\n",
    "                    right = []\n",
    "                    for diff in (git_obj.diff(git_obj.parents[0])):\n",
    "                        if diff.b_path[-5:].lower() != \".java\":\n",
    "                            continue\n",
    "                        replacement_left,replacement_right = r[\"description\"].split(\"Move Source Folder\")[-1].split(\" to \")\n",
    "                    \n",
    "                        left.append({\"filePath\": diff.b_path,\"codeElementType\": \"TYPE_DECLARATION\"})\n",
    "                        right.append({\"filePath\": diff.b_path.replace(replacement_left.strip(),replacement_right.strip()),\"codeElementType\": \"TYPE_DECLARATION\"})\n",
    "                        \n",
    "                    r[\"leftSideLocations\"] = left\n",
    "                    r[\"rightSideLocations\"] = right\n",
    "    return data\n",
    "\n",
    "\n",
    "def fixing_missing_data():\n",
    "    res = {}\n",
    "    for project in (projects):\n",
    "        print(\"build project: \",project , \" @ \" ,os.path.join(PATH_RFT,project,project+\"_refactoring_history.json\"))\n",
    "        data = json.load(open(os.path.join(PATH_RFT,project,project+\"_refactoring_history.json\")))\n",
    "        commits_data = data[\"commits\"]\n",
    "        print(\"fixing .. move source folder\")\n",
    "        commits_data = fix_move_source_folder(project,commits_data)\n",
    "        print(\"          completed...\")\n",
    "        data[\"commits\"] =commits_data\n",
    "        with open(os.path.join(PATH_RFT,project,project+\"_refactoring_history.json\"), \"w\") as outfile:\n",
    "            outfile.write(json.dumps(data))\n",
    "        res[project] = data\n",
    "    return res\n",
    "\n",
    "# d = fixing_missing_data() #Used it only once to fix the errors"
   ]
  },
  {
   "cell_type": "markdown",
   "metadata": {},
   "source": [
    "### Build evolution  graph "
   ]
  },
  {
   "cell_type": "code",
   "execution_count": 22,
   "metadata": {
    "scrolled": true
   },
   "outputs": [
    {
     "name": "stderr",
     "output_type": "stream",
     "text": [
      "\r",
      "  0%|                                                                                                                                                                                      | 0/13 [00:00<?, ?it/s]"
     ]
    },
    {
     "name": "stdout",
     "output_type": "stream",
     "text": [
      "build project:  cayenne\n"
     ]
    },
    {
     "name": "stderr",
     "output_type": "stream",
     "text": [
      "\r",
      "  8%|█████████████▍                                                                                                                                                                | 1/13 [00:01<00:13,  1.13s/it]"
     ]
    },
    {
     "name": "stdout",
     "output_type": "stream",
     "text": [
      "build project:  commons-collections\n"
     ]
    },
    {
     "name": "stderr",
     "output_type": "stream",
     "text": [
      "\r",
      " 15%|██████████████████████████▊                                                                                                                                                   | 2/13 [00:01<00:09,  1.15it/s]"
     ]
    },
    {
     "name": "stdout",
     "output_type": "stream",
     "text": [
      "build project:  cucumber-jvm\n"
     ]
    },
    {
     "name": "stderr",
     "output_type": "stream",
     "text": [
      "\r",
      " 23%|████████████████████████████████████████▏                                                                                                                                     | 3/13 [00:02<00:06,  1.63it/s]"
     ]
    },
    {
     "name": "stdout",
     "output_type": "stream",
     "text": [
      "build project:  cxf\n"
     ]
    },
    {
     "name": "stderr",
     "output_type": "stream",
     "text": [
      "\r",
      " 31%|█████████████████████████████████████████████████████▌                                                                                                                        | 4/13 [00:03<00:06,  1.30it/s]"
     ]
    },
    {
     "name": "stdout",
     "output_type": "stream",
     "text": [
      "build project:  httpcomponents-client\n"
     ]
    },
    {
     "name": "stderr",
     "output_type": "stream",
     "text": [
      "\r",
      " 38%|██████████████████████████████████████████████████████████████████▉                                                                                                           | 5/13 [00:03<00:05,  1.49it/s]"
     ]
    },
    {
     "name": "stdout",
     "output_type": "stream",
     "text": [
      "build project:  iotdb\n"
     ]
    },
    {
     "name": "stderr",
     "output_type": "stream",
     "text": [
      "\r",
      " 46%|████████████████████████████████████████████████████████████████████████████████▎                                                                                             | 6/13 [00:04<00:05,  1.36it/s]"
     ]
    },
    {
     "name": "stdout",
     "output_type": "stream",
     "text": [
      "build project:  jclouds\n"
     ]
    },
    {
     "name": "stderr",
     "output_type": "stream",
     "text": [
      "\r",
      " 54%|█████████████████████████████████████████████████████████████████████████████████████████████▋                                                                                | 7/13 [00:06<00:07,  1.19s/it]"
     ]
    },
    {
     "name": "stdout",
     "output_type": "stream",
     "text": [
      "build project:  kylin\n"
     ]
    },
    {
     "name": "stderr",
     "output_type": "stream",
     "text": [
      "\r",
      " 62%|███████████████████████████████████████████████████████████████████████████████████████████████████████████                                                                   | 8/13 [00:07<00:04,  1.03it/s]"
     ]
    },
    {
     "name": "stdout",
     "output_type": "stream",
     "text": [
      "build project:  maven\n"
     ]
    },
    {
     "name": "stderr",
     "output_type": "stream",
     "text": [
      "\r",
      " 69%|████████████████████████████████████████████████████████████████████████████████████████████████████████████████████████▍                                                     | 9/13 [00:07<00:03,  1.16it/s]"
     ]
    },
    {
     "name": "stdout",
     "output_type": "stream",
     "text": [
      "build project:  opennlp\n",
      "build project:  ranger\n"
     ]
    },
    {
     "name": "stderr",
     "output_type": "stream",
     "text": [
      " 92%|███████████████████████████████████████████████████████████████████████████████████████████████████████████████████████████████████████████████████████████████▋             | 12/13 [00:08<00:00,  2.27it/s]"
     ]
    },
    {
     "name": "stdout",
     "output_type": "stream",
     "text": [
      "build project:  ratis\n",
      "build project:  wicket\n"
     ]
    },
    {
     "name": "stderr",
     "output_type": "stream",
     "text": [
      "100%|█████████████████████████████████████████████████████████████████████████████████████████████████████████████████████████████████████████████████████████████████████████████| 13/13 [00:09<00:00,  1.35it/s]\n"
     ]
    }
   ],
   "source": [
    "   \n",
    "import networkx as nx\n",
    "import sys\n",
    "    \n",
    "result = {}\n",
    "for project in tqdm(projects):\n",
    "        \n",
    "    print(\"build project: \",project)\n",
    "        \n",
    "    data = json.load(open(os.path.join(PATH_RFT,project,project+\"_refactoring_history.json\")))\n",
    "\n",
    "    rfts = []\n",
    "    data = data[\"commits\"]\n",
    "    data.reverse()\n",
    "    \n",
    "    G = nx.MultiDiGraph()\n",
    "    for commit_obj in (data):\n",
    "        _,G = get_relevant_rft(project,commit_obj[\"refactorings\"],commit_obj[\"sha1\"],G)\n",
    "    result[project] = G\n"
   ]
  },
  {
   "cell_type": "markdown",
   "metadata": {},
   "source": [
    "### Testing whether evolution graph creates correct graphs"
   ]
  },
  {
   "cell_type": "code",
   "execution_count": 23,
   "metadata": {},
   "outputs": [
    {
     "name": "stderr",
     "output_type": "stream",
     "text": [
      "\r",
      "  0%|                                                                                                                                                                                      | 0/13 [00:00<?, ?it/s]"
     ]
    },
    {
     "name": "stdout",
     "output_type": "stream",
     "text": [
      "build project:  commons-collections\n"
     ]
    },
    {
     "name": "stderr",
     "output_type": "stream",
     "text": [
      "100%|█████████████████████████████████████████████████████████████████████████████████████████████████████████████████████████████████████████████████████████████████████████████| 13/13 [00:00<00:00, 19.17it/s]\n"
     ]
    }
   ],
   "source": [
    "from collections import Counter\n",
    "\n",
    "theoretical = 0\n",
    "for project in tqdm(projects):\n",
    "    if project  != \"commons-collections\":\n",
    "        continue\n",
    "    print(\"build project: \",project)\n",
    "    data = json.load(open(os.path.join(PATH_RFT,project,project+\"_refactoring_history.json\")))\n",
    "    for k in data[\"commits\"]:\n",
    "        for rft in k[\"refactorings\"]:\n",
    "            if \"class extension\" in rft[\"type\"].lower() or \"class implementation\" in rft[\"type\"].lower():\n",
    "                theoretical = theoretical + 1\n",
    "\n",
    "    \n",
    "res = []\n",
    "for i in result[\"commons-collections\"].edges(data=True):\n",
    "    if \"class extension\" in (i[2][\"weight\"]).lower() or \"class implementation\" in (i[2][\"weight\"]):\n",
    "        res.append(i[2][\"weight\"])\n",
    "df = pd.DataFrame(res,columns=[\"rft\"])\n",
    "len(set(df[\"rft\"].tolist()))\n",
    "\n",
    "\n",
    "res2 = []\n",
    "for sg in nx.weakly_connected_components(result[\"commons-collections\"]):\n",
    "    g = result[\"commons-collections\"].subgraph(list(sg))\n",
    "    for i in (g.edges(data=True)):\n",
    "        if \"class extension\" in (i[2][\"weight\"]).lower() or \"class implementation\" in (i[2][\"weight\"]):\n",
    "            res2.append(i[2][\"weight\"])\n",
    "len(res2)\n",
    "\n",
    "assert (len(set(df[\"rft\"].tolist())) == theoretical == len(res2))"
   ]
  },
  {
   "cell_type": "markdown",
   "metadata": {},
   "source": [
    "### Saving evolution graph"
   ]
  },
  {
   "cell_type": "code",
   "execution_count": 24,
   "metadata": {
    "scrolled": true
   },
   "outputs": [
    {
     "name": "stderr",
     "output_type": "stream",
     "text": [
      "100%|█████████████████████████████████████████████████████████████████████████████████████████████████████████████████████████████████████████████████████████████████████████████| 13/13 [00:01<00:00,  7.38it/s]\n"
     ]
    }
   ],
   "source": [
    "def get_root(g):\n",
    "    H = nx.MultiDiGraph()\n",
    "    has = False\n",
    "    for index,edge in enumerate(g.edges(data=True)):\n",
    "        l,r,w = (edge)\n",
    "        if (\"class extension\" in w[\"weight\"]) or (\"class implementation\" in w[\"weight\"]):\n",
    "            has = True\n",
    "        if l != r:\n",
    "            H.add_node(l,label = g.nodes[l][\"label\"])\n",
    "            H.add_node(r,label = g.nodes[r][\"label\"])\n",
    "            H.add_edge(l,r,weight=w[\"weight\"])\n",
    "\n",
    "    if has:\n",
    "        root =  root_helper(H)\n",
    "        if root:\n",
    "            return g.nodes[root][\"label\"]\n",
    "        else:\n",
    "            root = list(g.nodes())[0]\n",
    "            return g.nodes[root][\"label\"]\n",
    "    else:\n",
    "        return False\n",
    "        \n",
    "def has_rft(g):\n",
    "    for index,edge in enumerate(g.edges(data=True)):\n",
    "        l,r,w = (edge)\n",
    "        if (\"class extension\" in w[\"weight\"]) or (\"class implementation\" in w[\"weight\"]):\n",
    "            return True\n",
    "    return False\n",
    "    \n",
    "def has_self_loop(g):\n",
    "    H = nx.MultiDiGraph()\n",
    "    for index,edge in enumerate(g.edges(data=True)):\n",
    "        l,r,w = (edge)\n",
    "        if l == r:\n",
    "            return True\n",
    "    return False\n",
    "\n",
    "def root_helper(H):\n",
    "    for n in H.nodes():\n",
    "        if (H.in_degree(n)) == 0:\n",
    "            return n\n",
    "    return False\n",
    "\n",
    "\n",
    "\n",
    "for project in tqdm(projects):\n",
    "    tree = {}\n",
    "    cunt = 0\n",
    "        \n",
    "    for sg in nx.weakly_connected_components(result[project]):\n",
    "        g = result[project].subgraph(list(sg))\n",
    "        \n",
    "        if not has_rft(g): continue\n",
    "            \n",
    "        cnt_local= 0 \n",
    "        acumulation = {}\n",
    "        for index,edge in enumerate(g.edges(data=True)):\n",
    "            l,r,w = (edge)\n",
    "            acumulation[index] = ({\"commit\":w[\"commit\"],\n",
    "             \"left ==> right\":l + \" ==> \"+r,\n",
    "             \"refactoring\":w[\"weight\"]\n",
    "            })\n",
    "            if (\"class extension\" in w[\"weight\"]) or (\"class implementation\" in w[\"weight\"]):\n",
    "                cunt = cunt + 1\n",
    "                cnt_local = cnt_local + 1\n",
    "                \n",
    "             \n",
    "        cnt_local2 = 0\n",
    "        for cc in (acumulation):\n",
    "            if (\"class extension\" in acumulation[cc][\"refactoring\"]) or (\"class implementation\" in acumulation[cc][\"refactoring\"]):\n",
    "                cnt_local2  = cnt_local2 + 1\n",
    "                \n",
    "        assert cnt_local == cnt_local2\n",
    "        root = get_root(g)\n",
    "        if root in tree:\n",
    "            print(\"not supposed to be in here\")\n",
    "        tree[root] = acumulation\n",
    "    with open(os.path.join(PATH_RFT,project,project+\"_refactoring_tree.json\"), \"w\") as outfile:\n",
    "        outfile.write(json.dumps(tree))\n",
    "\n",
    "        \n",
    "        \n"
   ]
  },
  {
   "cell_type": "markdown",
   "metadata": {},
   "source": [
    "## Methdology: Table 2"
   ]
  },
  {
   "cell_type": "code",
   "execution_count": 3,
   "metadata": {},
   "outputs": [],
   "source": [
    "def check_if_file_test(f):\n",
    "    fname = (f.split(\"/\")[-1][0:-5])\n",
    "    if (fname[0:4].lower() == \"test\") or  (fname[-4:].lower() == \"test\"):\n",
    "        return True\n",
    "    else:\n",
    "        return False\n",
    "    \n"
   ]
  },
  {
   "cell_type": "code",
   "execution_count": 4,
   "metadata": {},
   "outputs": [],
   "source": [
    "import re\n",
    "\n",
    "def get_stats(data):\n",
    "    acc_test = {'Add Class Extension':0,\n",
    "          'Remove Class Extension':0,\n",
    "          'Replace Class Extension':0,\n",
    "          'Add Class Implementation':0,\n",
    "          'Remove Class Implementation':0,\n",
    "          'Replace Class Implementation':0}\n",
    "    \n",
    "    acc_source = {'Add Class Extension':0,\n",
    "          'Remove Class Extension':0,\n",
    "          'Replace Class Extension':0,\n",
    "          'Add Class Implementation':0,\n",
    "          'Remove Class Implementation':0,\n",
    "          'Replace Class Implementation':0}\n",
    "    \n",
    "    for d in data[\"commits\"]:\n",
    "        if (d[\"refactorings\"]):\n",
    "            commit = (d[\"sha1\"])\n",
    "            for rft in (d[\"refactorings\"]):\n",
    "                t = (re.search(\".* (extension|implementation)\", rft[\"type\"].lower()))\n",
    "                if t:\n",
    "                    fname = rft[\"leftSideLocations\"][0][\"filePath\"]\n",
    "                    isJava = fname.split(\"/\")[-1][-4:].lower()\n",
    "                    if isJava != \"java\":\n",
    "                        continue\n",
    "                    if check_if_file_test(fname):  # only to check test vs prod\n",
    "                        acc_test[rft[\"type\"]] = acc_test[rft[\"type\"]] + 1\n",
    "                    else:\n",
    "                        acc_source[rft[\"type\"]] = acc_source[rft[\"type\"]] + 1\n",
    "                        \n",
    "    return acc_test,acc_source\n",
    "\n"
   ]
  },
  {
   "cell_type": "code",
   "execution_count": 5,
   "metadata": {},
   "outputs": [
    {
     "name": "stderr",
     "output_type": "stream",
     "text": [
      "100%|█████████████████████████████████████████████████████████████████████████████████████████████████████████████████████████████████████████████████████████████████████████████| 13/13 [00:10<00:00,  1.27it/s]\n"
     ]
    }
   ],
   "source": [
    "result_test = {}\n",
    "result_source = {}\n",
    "for project in tqdm(projects):\n",
    "    data = json.load(open(os.path.join(PATH_RFT,project,project+\"_refactoring_history.json\")))\n",
    "    acc_test,acc_source = get_stats(data)\n",
    "    result_test[project] = acc_test\n",
    "    result_source[project] = acc_source\n"
   ]
  },
  {
   "cell_type": "code",
   "execution_count": 6,
   "metadata": {},
   "outputs": [
    {
     "name": "stdout",
     "output_type": "stream",
     "text": [
      "\\begin{tabular}{lllllll}\n",
      "\\toprule\n",
      "               Project & Add Ext. & Remove Ext. & Replace Ext. & Add Impl. & Remove Impl. & Replace Impl. \\\\\n",
      "\\midrule\n",
      "               cayenne &    71/13 &      49/228 &      658/276 &     193/0 &        122/0 &         164/1 \\\\\n",
      "   commons-collections &     37/6 &       16/23 &      332/449 &     133/6 &        114/3 &         245/7 \\\\\n",
      "          cucumber-jvm &    39/12 &       26/11 &         83/8 &    104/12 &        76/16 &        114/10 \\\\\n",
      "                   cxf &   159/39 &      62/601 &      347/126 &     236/6 &       166/17 &        165/11 \\\\\n",
      " httpcomponents-client &     29/6 &       23/62 &        76/48 &     104/6 &         61/3 &          96/6 \\\\\n",
      "                 iotdb &    46/10 &        25/6 &       265/17 &     115/2 &         77/3 &         105/7 \\\\\n",
      "               jclouds &  222/118 &      157/33 &    1919/1473 &    345/15 &        274/6 &        737/10 \\\\\n",
      "                 kylin &    46/35 &        18/5 &       192/44 &     199/1 &         65/0 &         154/4 \\\\\n",
      "                 maven &     58/0 &      44/111 &       130/61 &      97/1 &         88/1 &          44/0 \\\\\n",
      "               opennlp &     92/0 &        23/7 &         63/0 &      75/1 &         68/0 &          56/0 \\\\\n",
      "                ranger &     55/2 &        21/3 &         51/0 &      34/0 &         54/2 &          16/2 \\\\\n",
      "                 ratis &    41/30 &        18/3 &        30/35 &     77/19 &         37/1 &          27/3 \\\\\n",
      "                wicket &   131/54 &     106/167 &     2396/307 &    496/21 &       296/16 &        730/14 \\\\\n",
      "\\bottomrule\n",
      "\\end{tabular}\n",
      "\n"
     ]
    }
   ],
   "source": [
    "# this bsaically outputs the raw table\n",
    "\n",
    "latex_df = []\n",
    "test_tot = []\n",
    "source_tot = []\n",
    "for index,k in enumerate(result_test):\n",
    "    l = list(result_source[k].values())\n",
    "    r = list(result_test[k].values())\n",
    "    source_tot.append(l)\n",
    "    test_tot.append(r)\n",
    "    latex_df.append([k]+([str(x)+\"/\" +str(y) for x,y in zip(l,r)]))\n",
    "latex_df = pd.DataFrame(latex_df,columns=[\"Project\"]+[\"Add Ext.\",\"Remove Ext.\",\"Replace Ext.\",\"Add Impl.\",\"Remove Impl.\",\"Replace Impl.\"]).to_latex(index=False).replace(\"\\\\textbackslash\",\"\")\n",
    "print(latex_df)"
   ]
  }
 ],
 "metadata": {
  "kernelspec": {
   "display_name": "Python 3",
   "language": "python",
   "name": "python3"
  },
  "language_info": {
   "codemirror_mode": {
    "name": "ipython",
    "version": 3
   },
   "file_extension": ".py",
   "mimetype": "text/x-python",
   "name": "python",
   "nbconvert_exporter": "python",
   "pygments_lexer": "ipython3",
   "version": "3.8.2"
  }
 },
 "nbformat": 4,
 "nbformat_minor": 4
}
